{
 "cells": [
  {
   "cell_type": "markdown",
   "id": "194a40ad",
   "metadata": {},
   "source": [
    "# Get data\n",
    "This notebook fetches annual data using domain.com.au API. Please get your API Keys prior to running this notebook.\n",
    "\n",
    "Note that the free access only grants certain number of requests a month. Data will have smaller size if the quota is exceeded. In this case, delete those files and try again after a few weeks. If data already exists for some dwelling, no API calls will be made to avoid repetition and save up API call quota. Some postcodes may not have any results (akam there are probably no 4 bedroom house in Melbourne CBD => Null data or error). Any postcodes raising error are stored in `listErrors` list and it may be useful to look at this.\n"
   ]
  },
  {
   "cell_type": "code",
   "execution_count": 1,
   "id": "b269c47f",
   "metadata": {},
   "outputs": [],
   "source": [
    "## libraries and packages\n",
    "import pandas as pd\n",
    "import numpy as np\n",
    "import json\n",
    "from sklearn.linear_model import LinearRegression\n",
    "import math\n",
    "import geopandas\n",
    "import os\n",
    "import time\n",
    "import openpyxl\n",
    "import re\n",
    "import subprocess\n"
   ]
  },
  {
   "cell_type": "code",
   "execution_count": 2,
   "id": "a4c63e59",
   "metadata": {},
   "outputs": [],
   "source": [
    "## parameters and export settings\n",
    "''' \n",
    "Data is retrived using nested loops for each element in list Properties and Bedrooms.\n",
    "For example, following two lists are valid and will fetch 2 and 3 bedroom houses and units for the selected postcodes . \n",
    "Properties = ['House', 'Unit']\n",
    "Bedrooms = ['2', '3'] \n",
    "'''\n",
    "\n",
    "\n",
    "Properties =  ['House'] # valid dwellings in ['House', 'Unit']. Only used House here. Please confirm dwelling types on API documentation.\n",
    "Bedrooms = ['3'] # number of bedrooms, \n",
    "my_periodSize = 'years' # valid periods in ['years', 'quarters']\n",
    "exportDir = 'rawDumps_Oct2023' # where json data will be dumped. \n",
    "\n",
    "## Select relevant postcodes for Melbourne, Victoria\n",
    "Melbourne_Center_Coord = {'lat': -37.814218,'long': 144.963526} # Center of CBD for calculating distance \n",
    "radiusZoneInKM = 60 # select postcodes from THIS radius from Melbourne_Center_Coord\n",
    "\n",
    "\n",
    "## --\n",
    "if not os.path.exists(exportDir):\n",
    "    os.makedirs(exportDir)\n"
   ]
  },
  {
   "cell_type": "code",
   "execution_count": 3,
   "id": "eacd4ec9",
   "metadata": {},
   "outputs": [],
   "source": [
    "## SECRETS and API KEYS\n",
    "## Paste your keys here\n",
    "# domain API\n",
    "client_id = ''\n",
    "client_secret = ''\n",
    "MAPBOX_ACCESSTOKEN = ''\n",
    "\n",
    "\n",
    "## uploading my access keys\n",
    "exec(open(\"access_keys.py\", \"r\").read())"
   ]
  },
  {
   "cell_type": "code",
   "execution_count": 4,
   "id": "486e15cd",
   "metadata": {},
   "outputs": [],
   "source": [
    "## define all functions\n",
    "def getAccessToken():\n",
    "    '''Gets Access Token for the session based on pre-defined client_id and client_secret. Sets auth_dict containing access token as global variable.'''\n",
    "    global auth_dict # stores token\n",
    "    cmd = 'curl -X POST -u '\n",
    "    cmd = cmd + '\\'' + client_id + ':' + client_secret +'\\''\n",
    "    cmd = cmd + ' -H \\'Content-Type: application/x-www-form-urlencoded\\'' \n",
    "    cmd = cmd + ' -d \\'grant_type=client_credentials&scope=api_suburbperformance_read\\''\n",
    "    cmd = cmd + ' \\'https://auth.domain.com.au/v1/connect/token\\''\n",
    "    returned_value = subprocess.check_output(cmd, shell = True)\n",
    "    auth_dict = json.loads(returned_value.decode('utf8'))   \n",
    "\n",
    "def getSinglePropertyStats_raw(my_property,my_bedrooms, my_postcode, my_suburb,\n",
    "                               exportDir, \n",
    "                               my_state = 'VIC', \n",
    "                               my_periodSize='quarters'):\n",
    "    '''Fetches data on a single query and dumps raw data that into exportDir '''\n",
    "    fileName = exportDir + '/' + str(my_postcode) + '_' + my_suburb.replace(\" \",'-') + '_' + my_state + '_' + my_bedrooms + 'bd_' + my_property + '_'+ my_periodSize + '_raw.json'\n",
    "    if not os.path.exists(fileName):        \n",
    "        q = '\\'https://api.domain.com.au/v2/suburbPerformanceStatistics'\n",
    "        q = q + '/' + my_state + '/' + my_suburb + '/' + str(my_postcode) +'?'    \n",
    "        q = q + 'propertyCategory=' + my_property + '&bedrooms=' + my_bedrooms \n",
    "        q = q + '&periodSize='+ my_periodSize +'&startingPeriodRelativeToCurrent=2&totalPeriods=500\\''\n",
    "        url_request = 'curl -X GET -H \\'Authorization: Bearer ' + auth_dict['access_token'] + '\\''\n",
    "        url_request = url_request + ' -H \\'Content-Type: application/json\\' ' \n",
    "        url_request = url_request + q\n",
    "    #     print(url_request)\n",
    "        q_response = subprocess.check_output(url_request, shell = True).decode('utf8')\n",
    "    #     q_response_dict = json.loads(q_response)\n",
    "        f = open(fileName, 'w')\n",
    "        f.write(q_response)\n",
    "        f.close()\n",
    "        print(\"File written:\", fileName)\n",
    "    else:\n",
    "        print(\"Data exists. Skipped:\", fileName)\n",
    "        \n",
    "\n",
    "def isPointInROI(lat, long, maxDistance = 30):\n",
    "    '''Checks wheather a point on map falls within a square region of interest.\n",
    "    length of the ROI is maxDistance x 2, with ref coord of melbourne as center (0,0).\n",
    "    1 degree on lat and long is roughly 110 km. \n",
    "    '''    \n",
    "    return((abs(lat - Melbourne_Center_Coord['lat']) < (maxDistance/110)) &  (abs(long - Melbourne_Center_Coord['long']) < (maxDistance/110)))\n",
    "\n",
    "\n"
   ]
  },
  {
   "cell_type": "markdown",
   "id": "a6bff8ca",
   "metadata": {},
   "source": [
    "# Begin\n",
    "## Test authentication"
   ]
  },
  {
   "cell_type": "code",
   "execution_count": null,
   "id": "e968cadc",
   "metadata": {},
   "outputs": [],
   "source": [
    "## authenticate.\n",
    "## Successful authentication returns a dictionary with 'access_token' : some code, 'expires_in': some time...\n",
    "getAccessToken()\n",
    "print(auth_dict)"
   ]
  },
  {
   "cell_type": "code",
   "execution_count": 6,
   "id": "e8a8da96",
   "metadata": {},
   "outputs": [
    {
     "name": "stdout",
     "output_type": "stream",
     "text": [
      "Data exists. Skipped: rawDumps_Oct2023/3181_Kew_VIC_4bd_House_years_raw.json\n"
     ]
    }
   ],
   "source": [
    "## Attempt to retrive data for one suburb.\n",
    "##! if successful, message is 'File written: rawDumps_Oct2023/3181_Kew_VIC_4bd_House_years_raw.json'\n",
    "##! if file already exists, message is 'Data exists. Skipped: rawDumps_Oct2023/3181_Kew_VIC_4bd_House_years_raw.json'\n",
    "getSinglePropertyStats_raw('House', '4', '3181', 'Kew', \n",
    "                           my_periodSize='years', \n",
    "                           exportDir = exportDir)"
   ]
  },
  {
   "cell_type": "markdown",
   "id": "642b0b6c",
   "metadata": {},
   "source": [
    "## Download data en mass"
   ]
  },
  {
   "cell_type": "code",
   "execution_count": 7,
   "id": "a8944837",
   "metadata": {},
   "outputs": [
    {
     "name": "stdout",
     "output_type": "stream",
     "text": [
      "530 potential postcodes found within 60 km from the defined centre.\n"
     ]
    }
   ],
   "source": [
    "postcodes = pd.read_csv(\"Australian_Post_Codes_Lat_Lon.csv\")\n",
    "postcodes = postcodes.query('state == \"VIC\"' )\n",
    "\n",
    "## Test whether a postcode is within \n",
    "postcodes['inROI'] = postcodes[ ['lat', 'lon'] ].apply(lambda x: isPointInROI(x[0], x[1],radiusZoneInKM) , axis = 1)\n",
    "postcodes = postcodes[(postcodes.inROI) & (postcodes['postcode'] < 4000)]\n",
    "len(postcodes.index)\n",
    "\n",
    "## downloading remining of postcodes\n",
    "postcodes = postcodes[(postcodes.inROI) & (postcodes['postcode'] >=3000) &  (postcodes['postcode'] <= 3700)]\n",
    "\n",
    "print(\"{} potential postcodes found within {} km from the defined centre.\".format(str(len(postcodes.index)), str(radiusZoneInKM)))\n"
   ]
  },
  {
   "cell_type": "code",
   "execution_count": 8,
   "id": "4ac68ac3",
   "metadata": {},
   "outputs": [
    {
     "name": "stdout",
     "output_type": "stream",
     "text": [
      "['ABBOTSFORD', 'ABERFELDIE', 'AIRPORT WEST', 'ALBANVALE', 'ALBERT PARK', 'ALBION', 'ALPHINGTON', 'ALTONA', 'ALTONA EAST', 'ALTONA GATE', 'ALTONA MEADOWS', 'ALTONA NORTH', 'ARDEER', 'ARMADALE', 'ARMADALE NORTH', 'ARTHURS CREEK', 'ASCOT VALE', 'ASHBOURNE', 'ASHBURTON', 'ASHWOOD', 'ASPENDALE', 'ASPENDALE GARDENS', 'ATTWOOD', 'AUBURN', 'AUBURN SOUTH', 'AVONDALE HEIGHTS', 'BACCHUS MARSH', 'BALACLAVA', 'BALLARAT', 'BALLIANG EAST', 'BALWYN', 'BALWYN EAST', 'BALWYN NORTH', 'BANGHOLME', 'BANYULE', 'BAREENA', 'BARWON HEADS', 'BATMAN', 'BAYSWATER', 'BAYSWATER NORTH', 'BEAUMARIS', 'BEDFORD ROAD', 'BELGRAVE', 'BELGRAVE HEIGHTS', 'BELGRAVE SOUTH', 'BELLARINE', 'BELLFIELD', 'BELVEDERE PARK', 'BEND OF ISLANDS', 'BENDIGO', 'BENNETTSWOOD', 'BENTLEIGH', 'BENTLEIGH EAST', 'BLACK ROCK', 'BLACK ROCK NORTH', 'BLACKBURN', 'BLACKBURN NORTH', 'BLACKBURN SOUTH', 'BOLINDA', 'BONBEACH', 'BORONIA', 'BOX HILL', 'BOX HILL CENTRAL', 'BOX HILL NORTH', 'BOX HILL SOUTH', 'BRAESIDE', 'BRAYBROOK', 'BRAYBROOK NORTH', 'BRENTFORD SQUARE', 'BRIAR HILL', 'BRIGHTON', 'BRIGHTON EAST', 'BRIGHTON NORTH', 'BRIGHTON ROAD', 'BROADMEADOWS', 'BROOKFIELD', 'BROOKLYN', 'BRUNSWICK', 'BRUNSWICK EAST', 'BRUNSWICK LOWER', 'BRUNSWICK NORTH', 'BRUNSWICK SOUTH', 'BRUNSWICK WEST', 'BULLA', 'BULLEEN', 'BULLENGAROOK', 'BUNDOORA', 'BURNLEY', 'BURNLEY NORTH', 'BURNSIDE', 'BURNSIDE HEIGHTS', 'BURWOOD', 'BURWOOD EAST', 'BURWOOD HEIGHTS', 'CADELLO', 'CAIRNLEA', 'CALDER PARK', 'CAMBERWELL', 'CAMBERWELL EAST', 'CAMBERWELL NORTH', 'CAMBERWELL SOUTH', 'CAMBERWELL WEST', 'CAMPBELLFIELD', 'CANTERBURY', 'CARLSRUHE', 'CARLTON', 'CARLTON NORTH', 'CARLTON SOUTH', 'CARNEGIE', 'CAROLINE SPRINGS', 'CARRUM', 'CARRUM DOWNS', 'CAULFIELD', 'CAULFIELD EAST', 'CAULFIELD JUNCTION', 'CAULFIELD NORTH', 'CAULFIELD SOUTH', 'CENTRAL PARK', 'CHADSTONE', 'CHADSTONE CENTRE', 'CHELSEA', 'CHELSEA HEIGHTS', 'CHELTENHAM', 'CHELTENHAM EAST', 'CHELTENHAM NORTH', 'CHEROKEE', 'CHIRNSIDE PARK', 'CLARINDA', 'CLARKEFIELD', 'CLAYTON', 'CLAYTON SOUTH', 'CLIFTON HILL', 'CLIFTON SPRINGS', 'CLONBINANE', 'COATESVILLE', 'COBURG', 'COBURG NORTH', 'COCOROC', 'COIMADAI', 'COLLINGWOOD', 'COLLINGWOOD NORTH', 'COOLAROO', 'COTHAM', 'COTTLES BRIDGE', 'CRAIGIEBURN', 'CREMORNE', 'CROMER', 'CROYDON', 'CROYDON HILLS', 'CROYDON NORTH', 'CROYDON SOUTH', 'CURLEWIS', 'DALLAS', 'DANDENONG', 'DANDENONG EAST', 'DANDENONG NORTH', 'DANDENONG SOUTH', 'DANDENONG SOUTH', 'DARLEY', 'DARLING', 'DEER PARK', 'DEER PARK EAST', 'DEER PARK NORTH', 'DELAHEY', 'DENDY', 'DERRIMUT', 'DIAMOND CREEK', 'DIGGERS REST', 'DINGLEY VILLAGE', 'DOCKLANDS', 'DONCASTER', 'DONCASTER EAST', 'DONCASTER HEIGHTS', 'DONNYBROOK', 'DONVALE', 'DOUGLAS', 'DOVETON', 'DRYSDALE', 'DUNEARN', 'EAGLEMONT', 'EAST MELBOURNE', 'EDITHVALE', 'ELSTERNWICK', 'ELTHAM', 'ELTHAM NORTH', 'ELWOOD', 'EPPING', 'ESSENDON', 'ESSENDON NORTH', 'ESSENDON WEST', 'EUMEMMERRING', 'EXFORD', 'EYNESBURY', 'FAIRFIELD', 'FAWKNER', 'FAWKNER EAST', 'FAWKNER NORTH', 'FERNTREE GULLY', 'FITZROY', 'FITZROY NORTH', 'FLEMINGTON', 'FLOWERDALE', 'FOOTSCRAY', 'FOREST HILL', 'FRANKSTON', 'FRANKSTON EAST', 'FRANKSTON HEIGHTS', 'FRANKSTON NORTH', 'FRANKSTON SOUTH', 'GARDEN CITY', 'GARDENVALE', 'GISBORNE', 'GISBORNE SOUTH', 'GLADSTONE PARK', 'GLEN HUNTLY', 'GLEN IRIS', 'GLEN WAVERLEY', 'GLENGALA', 'GLENROY', 'GOWANBRAE', 'GREENSBOROUGH', 'GREENVALE', 'GREYTHORN', 'HADFIELD', 'HAMPTON EAST', 'HAMPTON NORTH', 'HANGING ROCK', 'HARTWELL', 'HAWKSBURN', 'HAWTHORN', 'HAWTHORN EAST', 'HAWTHORN NORTH', 'HAWTHORN WEST', 'HAZELDENE', 'HEATHERTON', 'HEATHMONT', 'HEIDELBERG', 'HEIDELBERG HEIGHTS', 'HEIDELBERG WEST', 'HESKET', 'HIGHETT', 'HIGHPOINT CITY', 'HILLSIDE', 'HOLMESGLEN', 'HOPETOUN GARDENS', 'HOPETOUN PARK', 'HOPPERS CROSSING', 'HOUSTON', 'HUGHESDALE', 'HUNTINGDALE', 'HURSTBRIDGE', 'INDENTED HEAD', 'IVANHOE', 'IVANHOE EAST', 'IVANHOE NORTH', 'JACANA', 'JILPANGER', 'KALKALLO', 'KANGAROO GROUND', 'KARINGAL', 'KARINGAL CENTRE', 'KEALBA', 'KEILOR', 'KEILOR DOWNS', 'KEILOR EAST', 'KEILOR LODGE', 'KEILOR NORTH', 'KEILOR PARK', 'KENSINGTON', 'KEON PARK', 'KERRIE', 'KERRIMUIR', 'KEW', 'KEW EAST', 'KEYSBOROUGH', 'KILSYTH', 'KILSYTH SOUTH', 'KINGS PARK', 'KINGSBURY', 'KINGSVILLE', 'KINGSVILLE WEST', 'KNOX CITY CENTRE', 'KNOXFIELD', 'KOOYONG', 'KURUNJANG', 'KYABRAM', 'KYNETON SOUTH', 'LA TROBE UNIVERSITY', 'LA TROBE UNIVERSITY', 'LABURNUM', 'LALOR', 'LALOR PLAZA', 'LANCEFIELD', 'LAVERTON', 'LAVERTON NORTH', 'LAVERTON RAAF', 'LEOPOLD', 'LILYDALE', 'LITTLE RIVER', 'LONG FOREST', 'LOWER PLENTY', 'LYSTERFIELD', 'LYSTERFIELD SOUTH', 'MACEDON', 'MACLEOD', 'MACLEOD WEST', 'MADDINGLEY', 'MAIDSTONE', 'MALVERN', 'MALVERN EAST', 'MALVERN NORTH', 'MAMBOURIN', 'MANNERIM', 'MARCUS HILL', 'MARIBYRNONG', 'MCKINNON', 'MEADOW HEIGHTS', 'MELBOURNE', 'MELBOURNE', 'MELBOURNE AIRPORT', 'MELBOURNE UNIVERSITY', 'MELTON', 'MELTON SOUTH', 'MELTON WEST', 'MENTONE', 'MENTONE EAST', 'MENZIES CREEK', 'MERLYNSTON', 'MERRIMU', 'MICKLEHAM', 'MIDDLE CAMBERWELL', 'MIDDLE PARK', 'MILDURA', 'MILL PARK', 'MITCHAM', 'MITCHAM NORTH', 'MONT ALBERT', 'MONT ALBERT NORTH', 'MONTMORENCY', 'MOOLAP', 'MOONEE PONDS', 'MOONEE VALE', 'MOORABBIN', 'MOORABBIN AIRPORT', 'MOOROOLBARK', 'MORDIALLOC', 'MORELAND', 'MORELAND WEST', 'MOUNT COTTRELL', 'MOUNT MACEDON', 'MOUNT WAVERLEY', 'MOUNTAIN GATE', 'MULGRAVE', 'MURRUMBEENA', 'NEW GISBORNE', 'NEWHAM', 'NEWPORT', 'NIDDRIE', 'NOBLE PARK', 'NOBLE PARK EAST', 'NOBLE PARK NORTH', 'NORTH MELBOURNE', 'NORTH ROAD', 'NORTH WARRANDYTE', 'NORTHCOTE', 'NORTHCOTE SOUTH', 'NORTHLAND CENTRE', 'NOTTING HILL', 'NUNAWADING', 'NUTFIELD', 'OAK PARK', 'OAKLANDS JUNCTION', 'OAKLEIGH', 'OAKLEIGH EAST', 'OAKLEIGH SOUTH', 'OCEAN GROVE', 'ORMOND', 'PARK ORCHARDS', 'PARKDALE', 'PARKVILLE', 'PARWAN', 'PASCOE VALE', 'PASCOE VALE SOUTH', 'PATTERSON', 'PATTERSON LAKES', 'PINES FOREST', 'PINEWOOD', 'PLENTY', 'PLUMPTON', 'POINT COOK', 'POINT LONSDALE', 'POINT WILSON', 'PORT MELBOURNE', 'PORTARLINGTON', 'PRAHRAN', 'PRAHRAN EAST', 'PRESTON', 'PRESTON LOWER', 'PRESTON SOUTH', 'PRESTON WEST', 'PRINCES HILL', 'QUANDONG', 'QUEENSCLIFF', 'RANGEVIEW', 'RAVENHALL', 'RED BLUFF', 'RESEARCH', 'RESERVOIR', 'RESERVOIR EAST', 'RESERVOIR NORTH', 'RESERVOIR SOUTH', 'RICHMOND', 'RICHMOND EAST', 'RICHMOND NORTH', 'RICHMOND SOUTH', 'RIDDELLS CREEK', 'RINGWOOD', 'RINGWOOD EAST', 'RINGWOOD NORTH', 'RIPPONLEA', 'ROBINSON', 'ROCHFORD', 'ROCKBANK', 'ROMSEY', 'ROSANNA', 'ROWVILLE', 'ROXBURGH PARK', 'ROYAL MELBOURNE HOSPITAL', 'SAINT HELENA', 'SANDOWN VILLAGE', 'SANDRINGHAM', 'SCORESBY', 'SEABROOK', 'SEAFORD', 'SEAHOLME', 'SEDDON', 'SEDDON WEST', 'SELBY', 'SEVILLE', 'SEVILLE EAST', 'SOMERTON', 'SOUTH KINGSVILLE', 'SOUTH MELBOURNE', 'SOUTH YARRA', 'SOUTHBANK', 'SOUTHLAND CENTRE', 'SPOTSWOOD', 'SPRINGFIELD', 'SPRINGVALE', 'SPRINGVALE SOUTH', 'ST ALBANS', 'ST KILDA', 'ST KILDA EAST', 'ST KILDA WEST', 'ST LEONARDS', 'STRATHEWEN', 'STRATHMORE', 'STRATHMORE HEIGHTS', 'SUMMERFIELD', 'SUNBURY', 'SUNSHINE NORTH', 'SUNSHINE WEST', 'SURREY HILLS', 'SURREY HILLS NORTH', 'SURREY HILLS SOUTH', 'SWAN BAY', 'SWAN ISLAND', 'SYDENHAM', 'SYNDAL', 'TARNEIT', 'TAYLORS HILL', 'TAYLORS LAKES', 'TECOMA', 'TEMPLESTOWE', 'TEMPLESTOWE LOWER', 'THE BASIN', 'THE PINES', 'THOMASTOWN', 'THORNBURY', 'TOOLERN VALE', 'TOORAK', 'TOTTENHAM', 'TRAVANCORE', 'TRUGANINA', 'TULLAMARINE', 'UNIVERSITY OF MELBOURNE', 'UPPER FERNTREE GULLY', 'UPWEY', 'VERMONT', 'VERMONT SOUTH', 'VIEWBANK', 'WALLINGTON', 'WANDIN EAST', 'WANDIN NORTH', 'WANTIRNA', 'WANTIRNA SOUTH', 'WARRANDYTE', 'WARRANDYTE SOUTH', 'WARRANWOOD', 'WATERFORD PARK', 'WATERGARDENS', 'WATERWAYS', 'WATSONIA', 'WATSONIA NORTH', 'WATSONS CREEK', 'WATTLE GLEN', 'WATTLE PARK', 'WAVERLEY GARDENS', 'WERRIBEE', 'WERRIBEE SOUTH', 'WEST FOOTSCRAY', 'WEST MELBOURNE', 'WESTMEADOWS', 'WHEELERS HILL', 'WILDWOOD', 'WILLIAMSTOWN', 'WILLIAMSTOWN NORTH', 'WINDSOR', 'WODONGA', 'WONGA PARK', 'WOODEND', 'WOODEND NORTH', 'WORLD TRADE CENTRE', 'WYNDHAM VALE', 'YALLAMBIE', 'YARRAMBAT', 'YARRAVILLE', 'YARRAVILLE WEST', 'YELLINGBO', 'YUROKE']\n"
     ]
    }
   ],
   "source": [
    "# prings all suburbs. maybe useful for quick eyeballing\n",
    "print(sorted(list(postcodes.suburb)))"
   ]
  },
  {
   "cell_type": "code",
   "execution_count": 9,
   "id": "4fe07794",
   "metadata": {
    "scrolled": true
   },
   "outputs": [
    {
     "name": "stdout",
     "output_type": "stream",
     "text": [
      "Data exists. Skipped: rawDumps_Oct2023/3000_MELBOURNE_VIC_3bd_House_years_raw.json\n"
     ]
    },
    {
     "name": "stderr",
     "output_type": "stream",
     "text": [
      "curl: (3) URL using bad/illegal format or missing URL\n",
      "curl: (3) URL using bad/illegal format or missing URL\n"
     ]
    },
    {
     "name": "stdout",
     "output_type": "stream",
     "text": [
      "Data exists. Skipped: rawDumps_Oct2023/3004_MELBOURNE_VIC_3bd_House_years_raw.json\n",
      "Data exists. Skipped: rawDumps_Oct2023/3006_SOUTHBANK_VIC_3bd_House_years_raw.json\n"
     ]
    },
    {
     "name": "stderr",
     "output_type": "stream",
     "text": [
      "curl: (3) URL using bad/illegal format or missing URL\n"
     ]
    },
    {
     "name": "stdout",
     "output_type": "stream",
     "text": [
      "Data exists. Skipped: rawDumps_Oct2023/3008_DOCKLANDS_VIC_3bd_House_years_raw.json\n"
     ]
    },
    {
     "name": "stderr",
     "output_type": "stream",
     "text": [
      "curl: (3) URL using bad/illegal format or missing URL\n"
     ]
    },
    {
     "name": "stdout",
     "output_type": "stream",
     "text": [
      "Data exists. Skipped: rawDumps_Oct2023/3011_FOOTSCRAY_VIC_3bd_House_years_raw.json\n",
      "Data exists. Skipped: rawDumps_Oct2023/3011_SEDDON_VIC_3bd_House_years_raw.json\n"
     ]
    },
    {
     "name": "stderr",
     "output_type": "stream",
     "text": [
      "curl: (3) URL using bad/illegal format or missing URL\n"
     ]
    },
    {
     "name": "stdout",
     "output_type": "stream",
     "text": [
      "Data exists. Skipped: rawDumps_Oct2023/3012_BROOKLYN_VIC_3bd_House_years_raw.json\n",
      "Data exists. Skipped: rawDumps_Oct2023/3012_KINGSVILLE_VIC_3bd_House_years_raw.json\n"
     ]
    },
    {
     "name": "stderr",
     "output_type": "stream",
     "text": [
      "curl: (3) URL using bad/illegal format or missing URL\n"
     ]
    },
    {
     "name": "stdout",
     "output_type": "stream",
     "text": [
      "Data exists. Skipped: rawDumps_Oct2023/3012_MAIDSTONE_VIC_3bd_House_years_raw.json\n",
      "Data exists. Skipped: rawDumps_Oct2023/3012_TOTTENHAM_VIC_3bd_House_years_raw.json\n"
     ]
    },
    {
     "name": "stderr",
     "output_type": "stream",
     "text": [
      "curl: (3) URL using bad/illegal format or missing URL\n"
     ]
    },
    {
     "name": "stdout",
     "output_type": "stream",
     "text": [
      "Data exists. Skipped: rawDumps_Oct2023/3013_YARRAVILLE_VIC_3bd_House_years_raw.json\n"
     ]
    },
    {
     "name": "stderr",
     "output_type": "stream",
     "text": [
      "curl: (3) URL using bad/illegal format or missing URL\n"
     ]
    },
    {
     "name": "stdout",
     "output_type": "stream",
     "text": [
      "Data exists. Skipped: rawDumps_Oct2023/3015_NEWPORT_VIC_3bd_House_years_raw.json\n"
     ]
    },
    {
     "name": "stderr",
     "output_type": "stream",
     "text": [
      "curl: (3) URL using bad/illegal format or missing URL\n"
     ]
    },
    {
     "name": "stdout",
     "output_type": "stream",
     "text": [
      "Data exists. Skipped: rawDumps_Oct2023/3015_SPOTSWOOD_VIC_3bd_House_years_raw.json\n",
      "Data exists. Skipped: rawDumps_Oct2023/3016_WILLIAMSTOWN_VIC_3bd_House_years_raw.json\n"
     ]
    },
    {
     "name": "stderr",
     "output_type": "stream",
     "text": [
      "curl: (3) URL using bad/illegal format or missing URL\n"
     ]
    },
    {
     "name": "stdout",
     "output_type": "stream",
     "text": [
      "Data exists. Skipped: rawDumps_Oct2023/3018_ALTONA_VIC_3bd_House_years_raw.json\n",
      "Data exists. Skipped: rawDumps_Oct2023/3018_SEAHOLME_VIC_3bd_House_years_raw.json\n",
      "Data exists. Skipped: rawDumps_Oct2023/3019_BRAYBROOK_VIC_3bd_House_years_raw.json\n"
     ]
    },
    {
     "name": "stderr",
     "output_type": "stream",
     "text": [
      "curl: (3) URL using bad/illegal format or missing URL\n"
     ]
    },
    {
     "name": "stdout",
     "output_type": "stream",
     "text": [
      "Data exists. Skipped: rawDumps_Oct2023/3019_ROBINSON_VIC_3bd_House_years_raw.json\n",
      "Data exists. Skipped: rawDumps_Oct2023/3020_ALBION_VIC_3bd_House_years_raw.json\n",
      "Data exists. Skipped: rawDumps_Oct2023/3020_GLENGALA_VIC_3bd_House_years_raw.json\n"
     ]
    },
    {
     "name": "stderr",
     "output_type": "stream",
     "text": [
      "curl: (3) URL using bad/illegal format or missing URL\n",
      "curl: (3) URL using bad/illegal format or missing URL\n"
     ]
    },
    {
     "name": "stdout",
     "output_type": "stream",
     "text": [
      "Data exists. Skipped: rawDumps_Oct2023/3021_ALBANVALE_VIC_3bd_House_years_raw.json\n",
      "Data exists. Skipped: rawDumps_Oct2023/3021_KEALBA_VIC_3bd_House_years_raw.json\n"
     ]
    },
    {
     "name": "stderr",
     "output_type": "stream",
     "text": [
      "curl: (3) URL using bad/illegal format or missing URL\n",
      "curl: (3) URL using bad/illegal format or missing URL\n"
     ]
    },
    {
     "name": "stdout",
     "output_type": "stream",
     "text": [
      "Data exists. Skipped: rawDumps_Oct2023/3022_ARDEER_VIC_3bd_House_years_raw.json\n",
      "Data exists. Skipped: rawDumps_Oct2023/3023_BURNSIDE_VIC_3bd_House_years_raw.json\n"
     ]
    },
    {
     "name": "stderr",
     "output_type": "stream",
     "text": [
      "curl: (3) URL using bad/illegal format or missing URL\n",
      "curl: (3) URL using bad/illegal format or missing URL\n"
     ]
    },
    {
     "name": "stdout",
     "output_type": "stream",
     "text": [
      "Data exists. Skipped: rawDumps_Oct2023/3023_CAIRNLEA_VIC_3bd_House_years_raw.json\n"
     ]
    },
    {
     "name": "stderr",
     "output_type": "stream",
     "text": [
      "curl: (3) URL using bad/illegal format or missing URL\n",
      "curl: (3) URL using bad/illegal format or missing URL\n",
      "curl: (3) URL using bad/illegal format or missing URL\n"
     ]
    },
    {
     "name": "stdout",
     "output_type": "stream",
     "text": [
      "Data exists. Skipped: rawDumps_Oct2023/3023_RAVENHALL_VIC_3bd_House_years_raw.json\n",
      "Data exists. Skipped: rawDumps_Oct2023/3024_MAMBOURIN_VIC_3bd_House_years_raw.json\n"
     ]
    },
    {
     "name": "stderr",
     "output_type": "stream",
     "text": [
      "curl: (3) URL using bad/illegal format or missing URL\n",
      "curl: (3) URL using bad/illegal format or missing URL\n",
      "curl: (3) URL using bad/illegal format or missing URL\n",
      "curl: (3) URL using bad/illegal format or missing URL\n",
      "curl: (3) URL using bad/illegal format or missing URL\n",
      "curl: (3) URL using bad/illegal format or missing URL\n",
      "curl: (3) URL using bad/illegal format or missing URL\n",
      "curl: (3) URL using bad/illegal format or missing URL\n"
     ]
    },
    {
     "name": "stdout",
     "output_type": "stream",
     "text": [
      "Data exists. Skipped: rawDumps_Oct2023/3028_LAVERTON_VIC_3bd_House_years_raw.json\n",
      "Data exists. Skipped: rawDumps_Oct2023/3028_SEABROOK_VIC_3bd_House_years_raw.json\n"
     ]
    },
    {
     "name": "stderr",
     "output_type": "stream",
     "text": [
      "curl: (3) URL using bad/illegal format or missing URL\n"
     ]
    },
    {
     "name": "stdout",
     "output_type": "stream",
     "text": [
      "Data exists. Skipped: rawDumps_Oct2023/3029_TARNEIT_VIC_3bd_House_years_raw.json\n",
      "Data exists. Skipped: rawDumps_Oct2023/3029_TRUGANINA_VIC_3bd_House_years_raw.json\n",
      "Data exists. Skipped: rawDumps_Oct2023/3030_COCOROC_VIC_3bd_House_years_raw.json\n",
      "Data exists. Skipped: rawDumps_Oct2023/3030_DERRIMUT_VIC_3bd_House_years_raw.json\n"
     ]
    },
    {
     "name": "stderr",
     "output_type": "stream",
     "text": [
      "curl: (3) URL using bad/illegal format or missing URL\n"
     ]
    },
    {
     "name": "stdout",
     "output_type": "stream",
     "text": [
      "Data exists. Skipped: rawDumps_Oct2023/3030_QUANDONG_VIC_3bd_House_years_raw.json\n",
      "Data exists. Skipped: rawDumps_Oct2023/3030_WERRIBEE_VIC_3bd_House_years_raw.json\n"
     ]
    },
    {
     "name": "stderr",
     "output_type": "stream",
     "text": [
      "curl: (3) URL using bad/illegal format or missing URL\n"
     ]
    },
    {
     "name": "stdout",
     "output_type": "stream",
     "text": [
      "Data exists. Skipped: rawDumps_Oct2023/3031_FLEMINGTON_VIC_3bd_House_years_raw.json\n",
      "Data exists. Skipped: rawDumps_Oct2023/3031_KENSINGTON_VIC_3bd_House_years_raw.json\n"
     ]
    },
    {
     "name": "stderr",
     "output_type": "stream",
     "text": [
      "curl: (3) URL using bad/illegal format or missing URL\n",
      "curl: (3) URL using bad/illegal format or missing URL\n"
     ]
    },
    {
     "name": "stdout",
     "output_type": "stream",
     "text": [
      "Data exists. Skipped: rawDumps_Oct2023/3032_MARIBYRNONG_VIC_3bd_House_years_raw.json\n",
      "Data exists. Skipped: rawDumps_Oct2023/3032_TRAVANCORE_VIC_3bd_House_years_raw.json\n"
     ]
    },
    {
     "name": "stderr",
     "output_type": "stream",
     "text": [
      "curl: (3) URL using bad/illegal format or missing URL\n",
      "curl: (3) URL using bad/illegal format or missing URL\n"
     ]
    },
    {
     "name": "stdout",
     "output_type": "stream",
     "text": [
      "Data exists. Skipped: rawDumps_Oct2023/3036_KEILOR_VIC_3bd_House_years_raw.json\n",
      "Data exists. Skipped: rawDumps_Oct2023/3037_DELAHEY_VIC_3bd_House_years_raw.json\n"
     ]
    },
    {
     "name": "stderr",
     "output_type": "stream",
     "text": [
      "curl: (3) URL using bad/illegal format or missing URL\n"
     ]
    },
    {
     "name": "stdout",
     "output_type": "stream",
     "text": [
      "Data exists. Skipped: rawDumps_Oct2023/3037_HILLSIDE_VIC_3bd_House_years_raw.json\n",
      "Data exists. Skipped: rawDumps_Oct2023/3037_SYDENHAM_VIC_3bd_House_years_raw.json\n"
     ]
    },
    {
     "name": "stderr",
     "output_type": "stream",
     "text": [
      "curl: (3) URL using bad/illegal format or missing URL\n",
      "curl: (3) URL using bad/illegal format or missing URL\n",
      "curl: (3) URL using bad/illegal format or missing URL\n",
      "curl: (3) URL using bad/illegal format or missing URL\n"
     ]
    },
    {
     "name": "stdout",
     "output_type": "stream",
     "text": [
      "Data exists. Skipped: rawDumps_Oct2023/3038_WATERGARDENS_VIC_3bd_House_years_raw.json\n",
      "Data exists. Skipped: rawDumps_Oct2023/3040_ABERFELDIE_VIC_3bd_House_years_raw.json\n"
     ]
    },
    {
     "name": "stderr",
     "output_type": "stream",
     "text": [
      "curl: (3) URL using bad/illegal format or missing URL\n"
     ]
    },
    {
     "name": "stdout",
     "output_type": "stream",
     "text": [
      "Data exists. Skipped: rawDumps_Oct2023/3040_ESSENDON_VIC_3bd_House_years_raw.json\n"
     ]
    },
    {
     "name": "stderr",
     "output_type": "stream",
     "text": [
      "curl: (3) URL using bad/illegal format or missing URL\n",
      "curl: (3) URL using bad/illegal format or missing URL\n"
     ]
    },
    {
     "name": "stdout",
     "output_type": "stream",
     "text": [
      "Data exists. Skipped: rawDumps_Oct2023/3041_STRATHMORE_VIC_3bd_House_years_raw.json\n"
     ]
    },
    {
     "name": "stderr",
     "output_type": "stream",
     "text": [
      "curl: (3) URL using bad/illegal format or missing URL\n",
      "curl: (3) URL using bad/illegal format or missing URL\n",
      "curl: (3) URL using bad/illegal format or missing URL\n"
     ]
    },
    {
     "name": "stdout",
     "output_type": "stream",
     "text": [
      "Data exists. Skipped: rawDumps_Oct2023/3042_NIDDRIE_VIC_3bd_House_years_raw.json\n",
      "Data exists. Skipped: rawDumps_Oct2023/3043_GOWANBRAE_VIC_3bd_House_years_raw.json\n"
     ]
    },
    {
     "name": "stderr",
     "output_type": "stream",
     "text": [
      "curl: (3) URL using bad/illegal format or missing URL\n"
     ]
    },
    {
     "name": "stdout",
     "output_type": "stream",
     "text": [
      "Data exists. Skipped: rawDumps_Oct2023/3043_TULLAMARINE_VIC_3bd_House_years_raw.json\n"
     ]
    },
    {
     "name": "stderr",
     "output_type": "stream",
     "text": [
      "curl: (3) URL using bad/illegal format or missing URL\n",
      "curl: (3) URL using bad/illegal format or missing URL\n",
      "curl: (3) URL using bad/illegal format or missing URL\n"
     ]
    },
    {
     "name": "stdout",
     "output_type": "stream",
     "text": [
      "Data exists. Skipped: rawDumps_Oct2023/3046_GLENROY_VIC_3bd_House_years_raw.json\n",
      "Data exists. Skipped: rawDumps_Oct2023/3046_HADFIELD_VIC_3bd_House_years_raw.json\n"
     ]
    },
    {
     "name": "stderr",
     "output_type": "stream",
     "text": [
      "curl: (3) URL using bad/illegal format or missing URL\n"
     ]
    },
    {
     "name": "stdout",
     "output_type": "stream",
     "text": [
      "Data exists. Skipped: rawDumps_Oct2023/3047_BROADMEADOWS_VIC_3bd_House_years_raw.json\n",
      "Data exists. Skipped: rawDumps_Oct2023/3047_DALLAS_VIC_3bd_House_years_raw.json\n",
      "Data exists. Skipped: rawDumps_Oct2023/3047_JACANA_VIC_3bd_House_years_raw.json\n",
      "Data exists. Skipped: rawDumps_Oct2023/3048_COOLAROO_VIC_3bd_House_years_raw.json\n"
     ]
    },
    {
     "name": "stderr",
     "output_type": "stream",
     "text": [
      "curl: (3) URL using bad/illegal format or missing URL\n",
      "curl: (3) URL using bad/illegal format or missing URL\n"
     ]
    },
    {
     "name": "stdout",
     "output_type": "stream",
     "text": [
      "Data exists. Skipped: rawDumps_Oct2023/3049_ATTWOOD_VIC_3bd_House_years_raw.json\n",
      "Data exists. Skipped: rawDumps_Oct2023/3049_WESTMEADOWS_VIC_3bd_House_years_raw.json\n"
     ]
    },
    {
     "name": "stderr",
     "output_type": "stream",
     "text": [
      "curl: (3) URL using bad/illegal format or missing URL\n",
      "curl: (3) URL using bad/illegal format or missing URL\n",
      "curl: (3) URL using bad/illegal format or missing URL\n"
     ]
    },
    {
     "name": "stdout",
     "output_type": "stream",
     "text": [
      "Data exists. Skipped: rawDumps_Oct2023/3052_PARKVILLE_VIC_3bd_House_years_raw.json\n",
      "Data exists. Skipped: rawDumps_Oct2023/3053_CARLTON_VIC_3bd_House_years_raw.json\n"
     ]
    },
    {
     "name": "stderr",
     "output_type": "stream",
     "text": [
      "curl: (3) URL using bad/illegal format or missing URL\n",
      "curl: (3) URL using bad/illegal format or missing URL\n",
      "curl: (3) URL using bad/illegal format or missing URL\n",
      "curl: (3) URL using bad/illegal format or missing URL\n",
      "curl: (3) URL using bad/illegal format or missing URL\n",
      "curl: (3) URL using bad/illegal format or missing URL\n",
      "curl: (3) URL using bad/illegal format or missing URL\n"
     ]
    },
    {
     "name": "stdout",
     "output_type": "stream",
     "text": [
      "Data exists. Skipped: rawDumps_Oct2023/3056_BRUNSWICK_VIC_3bd_House_years_raw.json\n"
     ]
    },
    {
     "name": "stderr",
     "output_type": "stream",
     "text": [
      "curl: (3) URL using bad/illegal format or missing URL\n",
      "curl: (3) URL using bad/illegal format or missing URL\n",
      "curl: (3) URL using bad/illegal format or missing URL\n"
     ]
    },
    {
     "name": "stdout",
     "output_type": "stream",
     "text": [
      "Data exists. Skipped: rawDumps_Oct2023/3058_BATMAN_VIC_3bd_House_years_raw.json\n",
      "Data exists. Skipped: rawDumps_Oct2023/3058_COBURG_VIC_3bd_House_years_raw.json\n"
     ]
    },
    {
     "name": "stderr",
     "output_type": "stream",
     "text": [
      "curl: (3) URL using bad/illegal format or missing URL\n"
     ]
    },
    {
     "name": "stdout",
     "output_type": "stream",
     "text": [
      "Data exists. Skipped: rawDumps_Oct2023/3058_MERLYNSTON_VIC_3bd_House_years_raw.json\n",
      "Data exists. Skipped: rawDumps_Oct2023/3058_MORELAND_VIC_3bd_House_years_raw.json\n",
      "Data exists. Skipped: rawDumps_Oct2023/3059_GREENVALE_VIC_3bd_House_years_raw.json\n",
      "Data exists. Skipped: rawDumps_Oct2023/3060_FAWKNER_VIC_3bd_House_years_raw.json\n"
     ]
    },
    {
     "name": "stderr",
     "output_type": "stream",
     "text": [
      "curl: (3) URL using bad/illegal format or missing URL\n",
      "curl: (3) URL using bad/illegal format or missing URL\n"
     ]
    },
    {
     "name": "stdout",
     "output_type": "stream",
     "text": [
      "Data exists. Skipped: rawDumps_Oct2023/3061_CAMPBELLFIELD_VIC_3bd_House_years_raw.json\n",
      "Data exists. Skipped: rawDumps_Oct2023/3062_SOMERTON_VIC_3bd_House_years_raw.json\n"
     ]
    },
    {
     "name": "stderr",
     "output_type": "stream",
     "text": [
      "curl: (3) URL using bad/illegal format or missing URL\n"
     ]
    },
    {
     "name": "stdout",
     "output_type": "stream",
     "text": [
      "Data exists. Skipped: rawDumps_Oct2023/3063_YUROKE_VIC_3bd_House_years_raw.json\n",
      "Data exists. Skipped: rawDumps_Oct2023/3064_CRAIGIEBURN_VIC_3bd_House_years_raw.json\n",
      "Data exists. Skipped: rawDumps_Oct2023/3064_DONNYBROOK_VIC_3bd_House_years_raw.json\n",
      "Data exists. Skipped: rawDumps_Oct2023/3064_KALKALLO_VIC_3bd_House_years_raw.json\n",
      "Data exists. Skipped: rawDumps_Oct2023/3064_MICKLEHAM_VIC_3bd_House_years_raw.json\n"
     ]
    },
    {
     "name": "stderr",
     "output_type": "stream",
     "text": [
      "curl: (3) URL using bad/illegal format or missing URL\n"
     ]
    },
    {
     "name": "stdout",
     "output_type": "stream",
     "text": [
      "Data exists. Skipped: rawDumps_Oct2023/3065_FITZROY_VIC_3bd_House_years_raw.json\n",
      "Data exists. Skipped: rawDumps_Oct2023/3066_COLLINGWOOD_VIC_3bd_House_years_raw.json\n"
     ]
    },
    {
     "name": "stderr",
     "output_type": "stream",
     "text": [
      "curl: (3) URL using bad/illegal format or missing URL\n"
     ]
    },
    {
     "name": "stdout",
     "output_type": "stream",
     "text": [
      "Data exists. Skipped: rawDumps_Oct2023/3067_ABBOTSFORD_VIC_3bd_House_years_raw.json\n"
     ]
    },
    {
     "name": "stderr",
     "output_type": "stream",
     "text": [
      "curl: (3) URL using bad/illegal format or missing URL\n",
      "curl: (3) URL using bad/illegal format or missing URL\n"
     ]
    },
    {
     "name": "stdout",
     "output_type": "stream",
     "text": [
      "Data exists. Skipped: rawDumps_Oct2023/3070_NORTHCOTE_VIC_3bd_House_years_raw.json\n",
      "Data exists. Skipped: rawDumps_Oct2023/3071_THORNBURY_VIC_3bd_House_years_raw.json\n"
     ]
    },
    {
     "name": "stderr",
     "output_type": "stream",
     "text": [
      "curl: (3) URL using bad/illegal format or missing URL\n",
      "curl: (3) URL using bad/illegal format or missing URL\n"
     ]
    },
    {
     "name": "stdout",
     "output_type": "stream",
     "text": [
      "Data exists. Skipped: rawDumps_Oct2023/3072_PRESTON_VIC_3bd_House_years_raw.json\n"
     ]
    },
    {
     "name": "stderr",
     "output_type": "stream",
     "text": [
      "curl: (3) URL using bad/illegal format or missing URL\n",
      "curl: (3) URL using bad/illegal format or missing URL\n",
      "curl: (3) URL using bad/illegal format or missing URL\n",
      "curl: (3) URL using bad/illegal format or missing URL\n"
     ]
    },
    {
     "name": "stdout",
     "output_type": "stream",
     "text": [
      "Data exists. Skipped: rawDumps_Oct2023/3073_RESERVOIR_VIC_3bd_House_years_raw.json\n"
     ]
    },
    {
     "name": "stderr",
     "output_type": "stream",
     "text": [
      "curl: (3) URL using bad/illegal format or missing URL\n",
      "curl: (3) URL using bad/illegal format or missing URL\n",
      "curl: (3) URL using bad/illegal format or missing URL\n"
     ]
    },
    {
     "name": "stdout",
     "output_type": "stream",
     "text": [
      "Data exists. Skipped: rawDumps_Oct2023/3074_THOMASTOWN_VIC_3bd_House_years_raw.json\n",
      "Data exists. Skipped: rawDumps_Oct2023/3075_LALOR_VIC_3bd_House_years_raw.json\n"
     ]
    },
    {
     "name": "stderr",
     "output_type": "stream",
     "text": [
      "curl: (3) URL using bad/illegal format or missing URL\n"
     ]
    },
    {
     "name": "stdout",
     "output_type": "stream",
     "text": [
      "Data exists. Skipped: rawDumps_Oct2023/3076_EPPING_VIC_3bd_House_years_raw.json\n",
      "Data exists. Skipped: rawDumps_Oct2023/3078_ALPHINGTON_VIC_3bd_House_years_raw.json\n",
      "Data exists. Skipped: rawDumps_Oct2023/3078_FAIRFIELD_VIC_3bd_House_years_raw.json\n",
      "Data exists. Skipped: rawDumps_Oct2023/3079_IVANHOE_VIC_3bd_House_years_raw.json\n"
     ]
    },
    {
     "name": "stderr",
     "output_type": "stream",
     "text": [
      "curl: (3) URL using bad/illegal format or missing URL\n",
      "curl: (3) URL using bad/illegal format or missing URL\n"
     ]
    },
    {
     "name": "stdout",
     "output_type": "stream",
     "text": [
      "Data exists. Skipped: rawDumps_Oct2023/3081_BELLFIELD_VIC_3bd_House_years_raw.json\n"
     ]
    },
    {
     "name": "stderr",
     "output_type": "stream",
     "text": [
      "curl: (3) URL using bad/illegal format or missing URL\n",
      "curl: (3) URL using bad/illegal format or missing URL\n",
      "curl: (3) URL using bad/illegal format or missing URL\n"
     ]
    },
    {
     "name": "stdout",
     "output_type": "stream",
     "text": [
      "Data exists. Skipped: rawDumps_Oct2023/3083_BUNDOORA_VIC_3bd_House_years_raw.json\n",
      "Data exists. Skipped: rawDumps_Oct2023/3083_KINGSBURY_VIC_3bd_House_years_raw.json\n"
     ]
    },
    {
     "name": "stderr",
     "output_type": "stream",
     "text": [
      "curl: (3) URL using bad/illegal format or missing URL\n"
     ]
    },
    {
     "name": "stdout",
     "output_type": "stream",
     "text": [
      "Data exists. Skipped: rawDumps_Oct2023/3084_BANYULE_VIC_3bd_House_years_raw.json\n",
      "Data exists. Skipped: rawDumps_Oct2023/3084_EAGLEMONT_VIC_3bd_House_years_raw.json\n",
      "Data exists. Skipped: rawDumps_Oct2023/3084_HEIDELBERG_VIC_3bd_House_years_raw.json\n",
      "Data exists. Skipped: rawDumps_Oct2023/3084_ROSANNA_VIC_3bd_House_years_raw.json\n",
      "Data exists. Skipped: rawDumps_Oct2023/3084_VIEWBANK_VIC_3bd_House_years_raw.json\n",
      "Data exists. Skipped: rawDumps_Oct2023/3085_MACLEOD_VIC_3bd_House_years_raw.json\n"
     ]
    },
    {
     "name": "stderr",
     "output_type": "stream",
     "text": [
      "curl: (3) URL using bad/illegal format or missing URL\n"
     ]
    },
    {
     "name": "stdout",
     "output_type": "stream",
     "text": [
      "Data exists. Skipped: rawDumps_Oct2023/3085_YALLAMBIE_VIC_3bd_House_years_raw.json\n"
     ]
    },
    {
     "name": "stderr",
     "output_type": "stream",
     "text": [
      "curl: (3) URL using bad/illegal format or missing URL\n",
      "curl: (3) URL using bad/illegal format or missing URL\n"
     ]
    },
    {
     "name": "stdout",
     "output_type": "stream",
     "text": [
      "Data exists. Skipped: rawDumps_Oct2023/3087_WATSONIA_VIC_3bd_House_years_raw.json\n"
     ]
    },
    {
     "name": "stderr",
     "output_type": "stream",
     "text": [
      "curl: (3) URL using bad/illegal format or missing URL\n",
      "curl: (3) URL using bad/illegal format or missing URL\n"
     ]
    },
    {
     "name": "stdout",
     "output_type": "stream",
     "text": [
      "Data exists. Skipped: rawDumps_Oct2023/3088_GREENSBOROUGH_VIC_3bd_House_years_raw.json\n"
     ]
    },
    {
     "name": "stderr",
     "output_type": "stream",
     "text": [
      "curl: (3) URL using bad/illegal format or missing URL\n"
     ]
    },
    {
     "name": "stdout",
     "output_type": "stream",
     "text": [
      "Data exists. Skipped: rawDumps_Oct2023/3090_PLENTY_VIC_3bd_House_years_raw.json\n",
      "Data exists. Skipped: rawDumps_Oct2023/3091_YARRAMBAT_VIC_3bd_House_years_raw.json\n"
     ]
    },
    {
     "name": "stderr",
     "output_type": "stream",
     "text": [
      "curl: (3) URL using bad/illegal format or missing URL\n"
     ]
    },
    {
     "name": "stdout",
     "output_type": "stream",
     "text": [
      "Data exists. Skipped: rawDumps_Oct2023/3094_MONTMORENCY_VIC_3bd_House_years_raw.json\n",
      "Data exists. Skipped: rawDumps_Oct2023/3095_ELTHAM_VIC_3bd_House_years_raw.json\n"
     ]
    },
    {
     "name": "stderr",
     "output_type": "stream",
     "text": [
      "curl: (3) URL using bad/illegal format or missing URL\n",
      "curl: (3) URL using bad/illegal format or missing URL\n"
     ]
    },
    {
     "name": "stdout",
     "output_type": "stream",
     "text": [
      "Data exists. Skipped: rawDumps_Oct2023/3095_RESEARCH_VIC_3bd_House_years_raw.json\n"
     ]
    },
    {
     "name": "stderr",
     "output_type": "stream",
     "text": [
      "curl: (3) URL using bad/illegal format or missing URL\n",
      "curl: (3) URL using bad/illegal format or missing URL\n",
      "curl: (3) URL using bad/illegal format or missing URL\n",
      "curl: (3) URL using bad/illegal format or missing URL\n",
      "curl: (3) URL using bad/illegal format or missing URL\n"
     ]
    },
    {
     "name": "stdout",
     "output_type": "stream",
     "text": [
      "Data exists. Skipped: rawDumps_Oct2023/3099_HURSTBRIDGE_VIC_3bd_House_years_raw.json\n",
      "Data exists. Skipped: rawDumps_Oct2023/3099_NUTFIELD_VIC_3bd_House_years_raw.json\n",
      "Data exists. Skipped: rawDumps_Oct2023/3099_STRATHEWEN_VIC_3bd_House_years_raw.json\n",
      "Data exists. Skipped: rawDumps_Oct2023/3101_COTHAM_VIC_3bd_House_years_raw.json\n",
      "Data exists. Skipped: rawDumps_Oct2023/3101_KEW_VIC_3bd_House_years_raw.json\n"
     ]
    },
    {
     "name": "stderr",
     "output_type": "stream",
     "text": [
      "curl: (3) URL using bad/illegal format or missing URL\n",
      "curl: (3) URL using bad/illegal format or missing URL\n"
     ]
    },
    {
     "name": "stdout",
     "output_type": "stream",
     "text": [
      "Data exists. Skipped: rawDumps_Oct2023/3103_BALWYN_VIC_3bd_House_years_raw.json\n"
     ]
    },
    {
     "name": "stderr",
     "output_type": "stream",
     "text": [
      "curl: (3) URL using bad/illegal format or missing URL\n"
     ]
    },
    {
     "name": "stdout",
     "output_type": "stream",
     "text": [
      "Data exists. Skipped: rawDumps_Oct2023/3104_GREYTHORN_VIC_3bd_House_years_raw.json\n",
      "Data exists. Skipped: rawDumps_Oct2023/3105_BULLEEN_VIC_3bd_House_years_raw.json\n",
      "Data exists. Skipped: rawDumps_Oct2023/3106_TEMPLESTOWE_VIC_3bd_House_years_raw.json\n",
      "Data exists. Skipped: rawDumps_Oct2023/3108_DONCASTER_VIC_3bd_House_years_raw.json\n"
     ]
    },
    {
     "name": "stderr",
     "output_type": "stream",
     "text": [
      "curl: (3) URL using bad/illegal format or missing URL\n",
      "curl: (3) URL using bad/illegal format or missing URL\n",
      "curl: (3) URL using bad/illegal format or missing URL\n",
      "curl: (3) URL using bad/illegal format or missing URL\n"
     ]
    },
    {
     "name": "stdout",
     "output_type": "stream",
     "text": [
      "Data exists. Skipped: rawDumps_Oct2023/3111_DONVALE_VIC_3bd_House_years_raw.json\n",
      "Data exists. Skipped: rawDumps_Oct2023/3113_WARRANDYTE_VIC_3bd_House_years_raw.json\n"
     ]
    },
    {
     "name": "stderr",
     "output_type": "stream",
     "text": [
      "curl: (3) URL using bad/illegal format or missing URL\n",
      "curl: (3) URL using bad/illegal format or missing URL\n",
      "curl: (3) URL using bad/illegal format or missing URL\n",
      "curl: (3) URL using bad/illegal format or missing URL\n"
     ]
    },
    {
     "name": "stdout",
     "output_type": "stream",
     "text": [
      "Data exists. Skipped: rawDumps_Oct2023/3121_BURNLEY_VIC_3bd_House_years_raw.json\n",
      "Data exists. Skipped: rawDumps_Oct2023/3121_CREMORNE_VIC_3bd_House_years_raw.json\n"
     ]
    },
    {
     "name": "stderr",
     "output_type": "stream",
     "text": [
      "curl: (3) URL using bad/illegal format or missing URL\n"
     ]
    },
    {
     "name": "stdout",
     "output_type": "stream",
     "text": [
      "Data exists. Skipped: rawDumps_Oct2023/3121_RICHMOND_VIC_3bd_House_years_raw.json\n"
     ]
    },
    {
     "name": "stderr",
     "output_type": "stream",
     "text": [
      "curl: (3) URL using bad/illegal format or missing URL\n",
      "curl: (3) URL using bad/illegal format or missing URL\n",
      "curl: (3) URL using bad/illegal format or missing URL\n",
      "curl: (3) URL using bad/illegal format or missing URL\n"
     ]
    },
    {
     "name": "stdout",
     "output_type": "stream",
     "text": [
      "Data exists. Skipped: rawDumps_Oct2023/3122_HAWTHORN_VIC_3bd_House_years_raw.json\n"
     ]
    },
    {
     "name": "stderr",
     "output_type": "stream",
     "text": [
      "curl: (3) URL using bad/illegal format or missing URL\n",
      "curl: (3) URL using bad/illegal format or missing URL\n"
     ]
    },
    {
     "name": "stdout",
     "output_type": "stream",
     "text": [
      "Data exists. Skipped: rawDumps_Oct2023/3123_AUBURN_VIC_3bd_House_years_raw.json\n",
      "Data exists. Skipped: rawDumps_Oct2023/3124_CAMBERWELL_VIC_3bd_House_years_raw.json\n"
     ]
    },
    {
     "name": "stderr",
     "output_type": "stream",
     "text": [
      "curl: (3) URL using bad/illegal format or missing URL\n",
      "curl: (3) URL using bad/illegal format or missing URL\n",
      "curl: (3) URL using bad/illegal format or missing URL\n",
      "curl: (3) URL using bad/illegal format or missing URL\n"
     ]
    },
    {
     "name": "stdout",
     "output_type": "stream",
     "text": [
      "Data exists. Skipped: rawDumps_Oct2023/3124_HARTWELL_VIC_3bd_House_years_raw.json\n",
      "Data exists. Skipped: rawDumps_Oct2023/3125_BENNETTSWOOD_VIC_3bd_House_years_raw.json\n"
     ]
    },
    {
     "name": "stderr",
     "output_type": "stream",
     "text": [
      "curl: (3) URL using bad/illegal format or missing URL\n"
     ]
    },
    {
     "name": "stdout",
     "output_type": "stream",
     "text": [
      "Data exists. Skipped: rawDumps_Oct2023/3125_BURWOOD_VIC_3bd_House_years_raw.json\n"
     ]
    },
    {
     "name": "stderr",
     "output_type": "stream",
     "text": [
      "curl: (3) URL using bad/illegal format or missing URL\n",
      "curl: (3) URL using bad/illegal format or missing URL\n"
     ]
    },
    {
     "name": "stdout",
     "output_type": "stream",
     "text": [
      "Data exists. Skipped: rawDumps_Oct2023/3126_CANTERBURY_VIC_3bd_House_years_raw.json\n"
     ]
    },
    {
     "name": "stderr",
     "output_type": "stream",
     "text": [
      "curl: (3) URL using bad/illegal format or missing URL\n",
      "curl: (3) URL using bad/illegal format or missing URL\n",
      "curl: (3) URL using bad/illegal format or missing URL\n",
      "curl: (3) URL using bad/illegal format or missing URL\n",
      "curl: (3) URL using bad/illegal format or missing URL\n",
      "curl: (3) URL using bad/illegal format or missing URL\n",
      "curl: (3) URL using bad/illegal format or missing URL\n"
     ]
    },
    {
     "name": "stdout",
     "output_type": "stream",
     "text": [
      "Data exists. Skipped: rawDumps_Oct2023/3128_HOUSTON_VIC_3bd_House_years_raw.json\n"
     ]
    },
    {
     "name": "stderr",
     "output_type": "stream",
     "text": [
      "curl: (3) URL using bad/illegal format or missing URL\n",
      "curl: (3) URL using bad/illegal format or missing URL\n"
     ]
    },
    {
     "name": "stdout",
     "output_type": "stream",
     "text": [
      "Data exists. Skipped: rawDumps_Oct2023/3129_KERRIMUIR_VIC_3bd_House_years_raw.json\n",
      "Data exists. Skipped: rawDumps_Oct2023/3130_BLACKBURN_VIC_3bd_House_years_raw.json\n"
     ]
    },
    {
     "name": "stderr",
     "output_type": "stream",
     "text": [
      "curl: (3) URL using bad/illegal format or missing URL\n",
      "curl: (3) URL using bad/illegal format or missing URL\n"
     ]
    },
    {
     "name": "stdout",
     "output_type": "stream",
     "text": [
      "Data exists. Skipped: rawDumps_Oct2023/3130_LABURNUM_VIC_3bd_House_years_raw.json\n"
     ]
    },
    {
     "name": "stderr",
     "output_type": "stream",
     "text": [
      "curl: (3) URL using bad/illegal format or missing URL\n",
      "curl: (3) URL using bad/illegal format or missing URL\n"
     ]
    },
    {
     "name": "stdout",
     "output_type": "stream",
     "text": [
      "Data exists. Skipped: rawDumps_Oct2023/3131_NUNAWADING_VIC_3bd_House_years_raw.json\n",
      "Data exists. Skipped: rawDumps_Oct2023/3132_MITCHAM_VIC_3bd_House_years_raw.json\n"
     ]
    },
    {
     "name": "stderr",
     "output_type": "stream",
     "text": [
      "curl: (3) URL using bad/illegal format or missing URL\n"
     ]
    },
    {
     "name": "stdout",
     "output_type": "stream",
     "text": [
      "Data exists. Skipped: rawDumps_Oct2023/3132_RANGEVIEW_VIC_3bd_House_years_raw.json\n",
      "Data exists. Skipped: rawDumps_Oct2023/3133_VERMONT_VIC_3bd_House_years_raw.json\n"
     ]
    },
    {
     "name": "stderr",
     "output_type": "stream",
     "text": [
      "curl: (3) URL using bad/illegal format or missing URL\n",
      "curl: (3) URL using bad/illegal format or missing URL\n"
     ]
    },
    {
     "name": "stdout",
     "output_type": "stream",
     "text": [
      "Data exists. Skipped: rawDumps_Oct2023/3134_RINGWOOD_VIC_3bd_House_years_raw.json\n"
     ]
    },
    {
     "name": "stderr",
     "output_type": "stream",
     "text": [
      "curl: (3) URL using bad/illegal format or missing URL\n",
      "curl: (3) URL using bad/illegal format or missing URL\n"
     ]
    },
    {
     "name": "stdout",
     "output_type": "stream",
     "text": [
      "Data exists. Skipped: rawDumps_Oct2023/3134_WARRANWOOD_VIC_3bd_House_years_raw.json\n",
      "Data exists. Skipped: rawDumps_Oct2023/3135_HEATHMONT_VIC_3bd_House_years_raw.json\n"
     ]
    },
    {
     "name": "stderr",
     "output_type": "stream",
     "text": [
      "curl: (3) URL using bad/illegal format or missing URL\n"
     ]
    },
    {
     "name": "stdout",
     "output_type": "stream",
     "text": [
      "Data exists. Skipped: rawDumps_Oct2023/3136_CROYDON_VIC_3bd_House_years_raw.json\n"
     ]
    },
    {
     "name": "stderr",
     "output_type": "stream",
     "text": [
      "curl: (3) URL using bad/illegal format or missing URL\n",
      "curl: (3) URL using bad/illegal format or missing URL\n",
      "curl: (3) URL using bad/illegal format or missing URL\n"
     ]
    },
    {
     "name": "stdout",
     "output_type": "stream",
     "text": [
      "Data exists. Skipped: rawDumps_Oct2023/3137_KILSYTH_VIC_3bd_House_years_raw.json\n",
      "Data exists. Skipped: rawDumps_Oct2023/3138_MOOROOLBARK_VIC_3bd_House_years_raw.json\n"
     ]
    },
    {
     "name": "stderr",
     "output_type": "stream",
     "text": [
      "curl: (3) URL using bad/illegal format or missing URL\n"
     ]
    },
    {
     "name": "stdout",
     "output_type": "stream",
     "text": [
      "Data exists. Skipped: rawDumps_Oct2023/3139_SEVILLE_VIC_3bd_House_years_raw.json\n"
     ]
    },
    {
     "name": "stderr",
     "output_type": "stream",
     "text": [
      "curl: (3) URL using bad/illegal format or missing URL\n",
      "curl: (3) URL using bad/illegal format or missing URL\n",
      "curl: (3) URL using bad/illegal format or missing URL\n"
     ]
    },
    {
     "name": "stdout",
     "output_type": "stream",
     "text": [
      "Data exists. Skipped: rawDumps_Oct2023/3139_YELLINGBO_VIC_3bd_House_years_raw.json\n",
      "Data exists. Skipped: rawDumps_Oct2023/3140_LILYDALE_VIC_3bd_House_years_raw.json\n"
     ]
    },
    {
     "name": "stderr",
     "output_type": "stream",
     "text": [
      "curl: (3) URL using bad/illegal format or missing URL\n"
     ]
    },
    {
     "name": "stdout",
     "output_type": "stream",
     "text": [
      "Data exists. Skipped: rawDumps_Oct2023/3142_HAWKSBURN_VIC_3bd_House_years_raw.json\n",
      "Data exists. Skipped: rawDumps_Oct2023/3142_TOORAK_VIC_3bd_House_years_raw.json\n",
      "Data exists. Skipped: rawDumps_Oct2023/3143_ARMADALE_VIC_3bd_House_years_raw.json\n",
      "Data exists. Skipped: rawDumps_Oct2023/3144_KOOYONG_VIC_3bd_House_years_raw.json\n"
     ]
    },
    {
     "name": "stderr",
     "output_type": "stream",
     "text": [
      "curl: (3) URL using bad/illegal format or missing URL\n"
     ]
    },
    {
     "name": "stdout",
     "output_type": "stream",
     "text": [
      "Data exists. Skipped: rawDumps_Oct2023/3144_MALVERN_VIC_3bd_House_years_raw.json\n"
     ]
    },
    {
     "name": "stderr",
     "output_type": "stream",
     "text": [
      "curl: (3) URL using bad/illegal format or missing URL\n",
      "curl: (3) URL using bad/illegal format or missing URL\n",
      "curl: (3) URL using bad/illegal format or missing URL\n"
     ]
    },
    {
     "name": "stdout",
     "output_type": "stream",
     "text": [
      "Data exists. Skipped: rawDumps_Oct2023/3145_DARLING_VIC_3bd_House_years_raw.json\n"
     ]
    },
    {
     "name": "stderr",
     "output_type": "stream",
     "text": [
      "curl: (3) URL using bad/illegal format or missing URL\n",
      "curl: (3) URL using bad/illegal format or missing URL\n"
     ]
    },
    {
     "name": "stdout",
     "output_type": "stream",
     "text": [
      "Data exists. Skipped: rawDumps_Oct2023/3147_ASHBURTON_VIC_3bd_House_years_raw.json\n",
      "Data exists. Skipped: rawDumps_Oct2023/3147_ASHWOOD_VIC_3bd_House_years_raw.json\n",
      "Data exists. Skipped: rawDumps_Oct2023/3148_CHADSTONE_VIC_3bd_House_years_raw.json\n",
      "Data exists. Skipped: rawDumps_Oct2023/3148_HOLMESGLEN_VIC_3bd_House_years_raw.json\n"
     ]
    },
    {
     "name": "stderr",
     "output_type": "stream",
     "text": [
      "curl: (3) URL using bad/illegal format or missing URL\n",
      "curl: (3) URL using bad/illegal format or missing URL\n"
     ]
    },
    {
     "name": "stdout",
     "output_type": "stream",
     "text": [
      "Data exists. Skipped: rawDumps_Oct2023/3149_PINEWOOD_VIC_3bd_House_years_raw.json\n",
      "Data exists. Skipped: rawDumps_Oct2023/3149_SYNDAL_VIC_3bd_House_years_raw.json\n"
     ]
    },
    {
     "name": "stderr",
     "output_type": "stream",
     "text": [
      "curl: (3) URL using bad/illegal format or missing URL\n",
      "curl: (3) URL using bad/illegal format or missing URL\n",
      "curl: (3) URL using bad/illegal format or missing URL\n",
      "curl: (3) URL using bad/illegal format or missing URL\n",
      "curl: (3) URL using bad/illegal format or missing URL\n",
      "curl: (3) URL using bad/illegal format or missing URL\n"
     ]
    },
    {
     "name": "stdout",
     "output_type": "stream",
     "text": [
      "Data exists. Skipped: rawDumps_Oct2023/3152_WANTIRNA_VIC_3bd_House_years_raw.json\n",
      "Data exists. Skipped: rawDumps_Oct2023/3153_BAYSWATER_VIC_3bd_House_years_raw.json\n"
     ]
    },
    {
     "name": "stderr",
     "output_type": "stream",
     "text": [
      "curl: (3) URL using bad/illegal format or missing URL\n",
      "curl: (3) URL using bad/illegal format or missing URL\n"
     ]
    },
    {
     "name": "stdout",
     "output_type": "stream",
     "text": [
      "Data exists. Skipped: rawDumps_Oct2023/3155_BORONIA_VIC_3bd_House_years_raw.json\n",
      "Data exists. Skipped: rawDumps_Oct2023/3156_LYSTERFIELD_VIC_3bd_House_years_raw.json\n"
     ]
    },
    {
     "name": "stderr",
     "output_type": "stream",
     "text": [
      "curl: (3) URL using bad/illegal format or missing URL\n",
      "curl: (3) URL using bad/illegal format or missing URL\n",
      "curl: (3) URL using bad/illegal format or missing URL\n",
      "curl: (3) URL using bad/illegal format or missing URL\n"
     ]
    },
    {
     "name": "stdout",
     "output_type": "stream",
     "text": [
      "Data exists. Skipped: rawDumps_Oct2023/3158_UPWEY_VIC_3bd_House_years_raw.json\n",
      "Data exists. Skipped: rawDumps_Oct2023/3159_SELBY_VIC_3bd_House_years_raw.json\n"
     ]
    },
    {
     "name": "stderr",
     "output_type": "stream",
     "text": [
      "curl: (3) URL using bad/illegal format or missing URL\n"
     ]
    },
    {
     "name": "stdout",
     "output_type": "stream",
     "text": [
      "Data exists. Skipped: rawDumps_Oct2023/3160_BELGRAVE_VIC_3bd_House_years_raw.json\n"
     ]
    },
    {
     "name": "stderr",
     "output_type": "stream",
     "text": [
      "curl: (3) URL using bad/illegal format or missing URL\n",
      "curl: (3) URL using bad/illegal format or missing URL\n"
     ]
    },
    {
     "name": "stdout",
     "output_type": "stream",
     "text": [
      "Data exists. Skipped: rawDumps_Oct2023/3160_TECOMA_VIC_3bd_House_years_raw.json\n"
     ]
    },
    {
     "name": "stderr",
     "output_type": "stream",
     "text": [
      "curl: (3) URL using bad/illegal format or missing URL\n",
      "curl: (3) URL using bad/illegal format or missing URL\n"
     ]
    },
    {
     "name": "stdout",
     "output_type": "stream",
     "text": [
      "Data exists. Skipped: rawDumps_Oct2023/3162_CAULFIELD_VIC_3bd_House_years_raw.json\n"
     ]
    },
    {
     "name": "stderr",
     "output_type": "stream",
     "text": [
      "curl: (3) URL using bad/illegal format or missing URL\n",
      "curl: (3) URL using bad/illegal format or missing URL\n"
     ]
    },
    {
     "name": "stdout",
     "output_type": "stream",
     "text": [
      "Data exists. Skipped: rawDumps_Oct2023/3163_CARNEGIE_VIC_3bd_House_years_raw.json\n",
      "Data exists. Skipped: rawDumps_Oct2023/3163_MURRUMBEENA_VIC_3bd_House_years_raw.json\n"
     ]
    },
    {
     "name": "stderr",
     "output_type": "stream",
     "text": [
      "curl: (3) URL using bad/illegal format or missing URL\n",
      "curl: (3) URL using bad/illegal format or missing URL\n",
      "curl: (3) URL using bad/illegal format or missing URL\n"
     ]
    },
    {
     "name": "stdout",
     "output_type": "stream",
     "text": [
      "Data exists. Skipped: rawDumps_Oct2023/3165_COATESVILLE_VIC_3bd_House_years_raw.json\n",
      "Data exists. Skipped: rawDumps_Oct2023/3166_HUGHESDALE_VIC_3bd_House_years_raw.json\n",
      "Data exists. Skipped: rawDumps_Oct2023/3166_HUNTINGDALE_VIC_3bd_House_years_raw.json\n",
      "Data exists. Skipped: rawDumps_Oct2023/3166_OAKLEIGH_VIC_3bd_House_years_raw.json\n"
     ]
    },
    {
     "name": "stderr",
     "output_type": "stream",
     "text": [
      "curl: (3) URL using bad/illegal format or missing URL\n",
      "curl: (3) URL using bad/illegal format or missing URL\n"
     ]
    },
    {
     "name": "stdout",
     "output_type": "stream",
     "text": [
      "Data exists. Skipped: rawDumps_Oct2023/3168_CLAYTON_VIC_3bd_House_years_raw.json\n",
      "Data exists. Skipped: rawDumps_Oct2023/3169_CLARINDA_VIC_3bd_House_years_raw.json\n"
     ]
    },
    {
     "name": "stderr",
     "output_type": "stream",
     "text": [
      "curl: (3) URL using bad/illegal format or missing URL\n",
      "curl: (3) URL using bad/illegal format or missing URL\n"
     ]
    },
    {
     "name": "stdout",
     "output_type": "stream",
     "text": [
      "Data exists. Skipped: rawDumps_Oct2023/3170_MULGRAVE_VIC_3bd_House_years_raw.json\n"
     ]
    },
    {
     "name": "stderr",
     "output_type": "stream",
     "text": [
      "curl: (3) URL using bad/illegal format or missing URL\n",
      "curl: (3) URL using bad/illegal format or missing URL\n"
     ]
    },
    {
     "name": "stdout",
     "output_type": "stream",
     "text": [
      "Data exists. Skipped: rawDumps_Oct2023/3171_SPRINGVALE_VIC_3bd_House_years_raw.json\n"
     ]
    },
    {
     "name": "stderr",
     "output_type": "stream",
     "text": [
      "curl: (3) URL using bad/illegal format or missing URL\n",
      "curl: (3) URL using bad/illegal format or missing URL\n"
     ]
    },
    {
     "name": "stdout",
     "output_type": "stream",
     "text": [
      "Data exists. Skipped: rawDumps_Oct2023/3173_KEYSBOROUGH_VIC_3bd_House_years_raw.json\n"
     ]
    },
    {
     "name": "stderr",
     "output_type": "stream",
     "text": [
      "curl: (3) URL using bad/illegal format or missing URL\n",
      "curl: (3) URL using bad/illegal format or missing URL\n",
      "curl: (3) URL using bad/illegal format or missing URL\n"
     ]
    },
    {
     "name": "stdout",
     "output_type": "stream",
     "text": [
      "Data exists. Skipped: rawDumps_Oct2023/3175_BANGHOLME_VIC_3bd_House_years_raw.json\n",
      "Data exists. Skipped: rawDumps_Oct2023/3175_DANDENONG_VIC_3bd_House_years_raw.json\n"
     ]
    },
    {
     "name": "stderr",
     "output_type": "stream",
     "text": [
      "curl: (3) URL using bad/illegal format or missing URL\n",
      "curl: (3) URL using bad/illegal format or missing URL\n",
      "curl: (3) URL using bad/illegal format or missing URL\n"
     ]
    },
    {
     "name": "stdout",
     "output_type": "stream",
     "text": [
      "Data exists. Skipped: rawDumps_Oct2023/3175_DUNEARN_VIC_3bd_House_years_raw.json\n",
      "Data exists. Skipped: rawDumps_Oct2023/3177_DOVETON_VIC_3bd_House_years_raw.json\n",
      "Data exists. Skipped: rawDumps_Oct2023/3177_EUMEMMERRING_VIC_3bd_House_years_raw.json\n",
      "Data exists. Skipped: rawDumps_Oct2023/3178_ROWVILLE_VIC_3bd_House_years_raw.json\n",
      "Data exists. Skipped: rawDumps_Oct2023/3179_SCORESBY_VIC_3bd_House_years_raw.json\n",
      "Data exists. Skipped: rawDumps_Oct2023/3180_KNOXFIELD_VIC_3bd_House_years_raw.json\n",
      "Data exists. Skipped: rawDumps_Oct2023/3181_PRAHRAN_VIC_3bd_House_years_raw.json\n"
     ]
    },
    {
     "name": "stderr",
     "output_type": "stream",
     "text": [
      "curl: (3) URL using bad/illegal format or missing URL\n"
     ]
    },
    {
     "name": "stdout",
     "output_type": "stream",
     "text": [
      "Data exists. Skipped: rawDumps_Oct2023/3181_WINDSOR_VIC_3bd_House_years_raw.json\n"
     ]
    },
    {
     "name": "stderr",
     "output_type": "stream",
     "text": [
      "curl: (3) URL using bad/illegal format or missing URL\n",
      "curl: (3) URL using bad/illegal format or missing URL\n"
     ]
    },
    {
     "name": "stdout",
     "output_type": "stream",
     "text": [
      "Data exists. Skipped: rawDumps_Oct2023/3183_BALACLAVA_VIC_3bd_House_years_raw.json\n"
     ]
    },
    {
     "name": "stderr",
     "output_type": "stream",
     "text": [
      "curl: (3) URL using bad/illegal format or missing URL\n",
      "curl: (3) URL using bad/illegal format or missing URL\n"
     ]
    },
    {
     "name": "stdout",
     "output_type": "stream",
     "text": [
      "Data exists. Skipped: rawDumps_Oct2023/3184_ELWOOD_VIC_3bd_House_years_raw.json\n",
      "Data exists. Skipped: rawDumps_Oct2023/3185_ELSTERNWICK_VIC_3bd_House_years_raw.json\n",
      "Data exists. Skipped: rawDumps_Oct2023/3185_GARDENVALE_VIC_3bd_House_years_raw.json\n",
      "Data exists. Skipped: rawDumps_Oct2023/3185_RIPPONLEA_VIC_3bd_House_years_raw.json\n",
      "Data exists. Skipped: rawDumps_Oct2023/3186_BRIGHTON_VIC_3bd_House_years_raw.json\n"
     ]
    },
    {
     "name": "stderr",
     "output_type": "stream",
     "text": [
      "curl: (3) URL using bad/illegal format or missing URL\n"
     ]
    },
    {
     "name": "stdout",
     "output_type": "stream",
     "text": [
      "Data exists. Skipped: rawDumps_Oct2023/3186_DENDY_VIC_3bd_House_years_raw.json\n"
     ]
    },
    {
     "name": "stderr",
     "output_type": "stream",
     "text": [
      "curl: (3) URL using bad/illegal format or missing URL\n",
      "curl: (3) URL using bad/illegal format or missing URL\n",
      "curl: (3) URL using bad/illegal format or missing URL\n",
      "curl: (3) URL using bad/illegal format or missing URL\n"
     ]
    },
    {
     "name": "stdout",
     "output_type": "stream",
     "text": [
      "Data exists. Skipped: rawDumps_Oct2023/3189_MOORABBIN_VIC_3bd_House_years_raw.json\n",
      "Data exists. Skipped: rawDumps_Oct2023/3190_HIGHETT_VIC_3bd_House_years_raw.json\n",
      "Data exists. Skipped: rawDumps_Oct2023/3191_SANDRINGHAM_VIC_3bd_House_years_raw.json\n",
      "Data exists. Skipped: rawDumps_Oct2023/3192_CHELTENHAM_VIC_3bd_House_years_raw.json\n"
     ]
    },
    {
     "name": "stderr",
     "output_type": "stream",
     "text": [
      "curl: (3) URL using bad/illegal format or missing URL\n",
      "curl: (3) URL using bad/illegal format or missing URL\n",
      "curl: (3) URL using bad/illegal format or missing URL\n"
     ]
    },
    {
     "name": "stdout",
     "output_type": "stream",
     "text": [
      "Data exists. Skipped: rawDumps_Oct2023/3193_BEAUMARIS_VIC_3bd_House_years_raw.json\n"
     ]
    },
    {
     "name": "stderr",
     "output_type": "stream",
     "text": [
      "curl: (3) URL using bad/illegal format or missing URL\n",
      "curl: (3) URL using bad/illegal format or missing URL\n"
     ]
    },
    {
     "name": "stdout",
     "output_type": "stream",
     "text": [
      "Data exists. Skipped: rawDumps_Oct2023/3193_CROMER_VIC_3bd_House_years_raw.json\n",
      "Data exists. Skipped: rawDumps_Oct2023/3194_MENTONE_VIC_3bd_House_years_raw.json\n"
     ]
    },
    {
     "name": "stderr",
     "output_type": "stream",
     "text": [
      "curl: (3) URL using bad/illegal format or missing URL\n",
      "curl: (3) URL using bad/illegal format or missing URL\n"
     ]
    },
    {
     "name": "stdout",
     "output_type": "stream",
     "text": [
      "Data exists. Skipped: rawDumps_Oct2023/3195_ASPENDALE_VIC_3bd_House_years_raw.json\n"
     ]
    },
    {
     "name": "stderr",
     "output_type": "stream",
     "text": [
      "curl: (3) URL using bad/illegal format or missing URL\n"
     ]
    },
    {
     "name": "stdout",
     "output_type": "stream",
     "text": [
      "Data exists. Skipped: rawDumps_Oct2023/3195_BRAESIDE_VIC_3bd_House_years_raw.json\n",
      "Data exists. Skipped: rawDumps_Oct2023/3195_MORDIALLOC_VIC_3bd_House_years_raw.json\n",
      "Data exists. Skipped: rawDumps_Oct2023/3195_PARKDALE_VIC_3bd_House_years_raw.json\n",
      "Data exists. Skipped: rawDumps_Oct2023/3195_WATERWAYS_VIC_3bd_House_years_raw.json\n",
      "Data exists. Skipped: rawDumps_Oct2023/3196_BONBEACH_VIC_3bd_House_years_raw.json\n",
      "Data exists. Skipped: rawDumps_Oct2023/3196_CHELSEA_VIC_3bd_House_years_raw.json\n"
     ]
    },
    {
     "name": "stderr",
     "output_type": "stream",
     "text": [
      "curl: (3) URL using bad/illegal format or missing URL\n"
     ]
    },
    {
     "name": "stdout",
     "output_type": "stream",
     "text": [
      "Data exists. Skipped: rawDumps_Oct2023/3196_EDITHVALE_VIC_3bd_House_years_raw.json\n",
      "Data exists. Skipped: rawDumps_Oct2023/3197_CARRUM_VIC_3bd_House_years_raw.json\n"
     ]
    },
    {
     "name": "stderr",
     "output_type": "stream",
     "text": [
      "curl: (3) URL using bad/illegal format or missing URL\n",
      "curl: (3) URL using bad/illegal format or missing URL\n"
     ]
    },
    {
     "name": "stdout",
     "output_type": "stream",
     "text": [
      "Data exists. Skipped: rawDumps_Oct2023/3198_SEAFORD_VIC_3bd_House_years_raw.json\n",
      "Data exists. Skipped: rawDumps_Oct2023/3199_FRANKSTON_VIC_3bd_House_years_raw.json\n"
     ]
    },
    {
     "name": "stderr",
     "output_type": "stream",
     "text": [
      "curl: (3) URL using bad/illegal format or missing URL\n",
      "curl: (3) URL using bad/illegal format or missing URL\n",
      "curl: (3) URL using bad/illegal format or missing URL\n"
     ]
    },
    {
     "name": "stdout",
     "output_type": "stream",
     "text": [
      "Data exists. Skipped: rawDumps_Oct2023/3199_KARINGAL_VIC_3bd_House_years_raw.json\n"
     ]
    },
    {
     "name": "stderr",
     "output_type": "stream",
     "text": [
      "curl: (3) URL using bad/illegal format or missing URL\n",
      "curl: (3) URL using bad/illegal format or missing URL\n",
      "curl: (3) URL using bad/illegal format or missing URL\n",
      "curl: (3) URL using bad/illegal format or missing URL\n"
     ]
    },
    {
     "name": "stdout",
     "output_type": "stream",
     "text": [
      "Data exists. Skipped: rawDumps_Oct2023/3202_HEATHERTON_VIC_3bd_House_years_raw.json\n",
      "Data exists. Skipped: rawDumps_Oct2023/3204_BENTLEIGH_VIC_3bd_House_years_raw.json\n",
      "Data exists. Skipped: rawDumps_Oct2023/3204_MCKINNON_VIC_3bd_House_years_raw.json\n",
      "Data exists. Skipped: rawDumps_Oct2023/3204_ORMOND_VIC_3bd_House_years_raw.json\n",
      "Data exists. Skipped: rawDumps_Oct2023/3204_PATTERSON_VIC_3bd_House_years_raw.json\n"
     ]
    },
    {
     "name": "stderr",
     "output_type": "stream",
     "text": [
      "curl: (3) URL using bad/illegal format or missing URL\n",
      "curl: (3) URL using bad/illegal format or missing URL\n",
      "curl: (3) URL using bad/illegal format or missing URL\n",
      "curl: (3) URL using bad/illegal format or missing URL\n",
      "curl: (3) URL using bad/illegal format or missing URL\n",
      "curl: (3) URL using bad/illegal format or missing URL\n",
      "curl: (3) URL using bad/illegal format or missing URL\n"
     ]
    },
    {
     "name": "stdout",
     "output_type": "stream",
     "text": [
      "Data exists. Skipped: rawDumps_Oct2023/3220_BAREENA_VIC_3bd_House_years_raw.json\n",
      "Data exists. Skipped: rawDumps_Oct2023/3221_BELLARINE_VIC_3bd_House_years_raw.json\n",
      "Data exists. Skipped: rawDumps_Oct2023/3221_MOOLAP_VIC_3bd_House_years_raw.json\n",
      "Data exists. Skipped: rawDumps_Oct2023/3221_WALLINGTON_VIC_3bd_House_years_raw.json\n"
     ]
    },
    {
     "name": "stderr",
     "output_type": "stream",
     "text": [
      "curl: (3) URL using bad/illegal format or missing URL\n"
     ]
    },
    {
     "name": "stdout",
     "output_type": "stream",
     "text": [
      "Data exists. Skipped: rawDumps_Oct2023/3222_CURLEWIS_VIC_3bd_House_years_raw.json\n",
      "Data exists. Skipped: rawDumps_Oct2023/3222_DRYSDALE_VIC_3bd_House_years_raw.json\n",
      "Data exists. Skipped: rawDumps_Oct2023/3222_MANNERIM_VIC_3bd_House_years_raw.json\n"
     ]
    },
    {
     "name": "stderr",
     "output_type": "stream",
     "text": [
      "curl: (3) URL using bad/illegal format or missing URL\n",
      "curl: (3) URL using bad/illegal format or missing URL\n"
     ]
    },
    {
     "name": "stdout",
     "output_type": "stream",
     "text": [
      "Data exists. Skipped: rawDumps_Oct2023/3223_PORTARLINGTON_VIC_3bd_House_years_raw.json\n",
      "Data exists. Skipped: rawDumps_Oct2023/3224_LEOPOLD_VIC_3bd_House_years_raw.json\n"
     ]
    },
    {
     "name": "stderr",
     "output_type": "stream",
     "text": [
      "curl: (3) URL using bad/illegal format or missing URL\n",
      "curl: (3) URL using bad/illegal format or missing URL\n"
     ]
    },
    {
     "name": "stdout",
     "output_type": "stream",
     "text": [
      "Data exists. Skipped: rawDumps_Oct2023/3225_QUEENSCLIFF_VIC_3bd_House_years_raw.json\n"
     ]
    },
    {
     "name": "stderr",
     "output_type": "stream",
     "text": [
      "curl: (3) URL using bad/illegal format or missing URL\n",
      "curl: (3) URL using bad/illegal format or missing URL\n",
      "curl: (3) URL using bad/illegal format or missing URL\n",
      "curl: (3) URL using bad/illegal format or missing URL\n"
     ]
    },
    {
     "name": "stdout",
     "output_type": "stream",
     "text": [
      "Data exists. Skipped: rawDumps_Oct2023/3335_PLUMPTON_VIC_3bd_House_years_raw.json\n",
      "Data exists. Skipped: rawDumps_Oct2023/3335_ROCKBANK_VIC_3bd_House_years_raw.json\n",
      "Data exists. Skipped: rawDumps_Oct2023/3337_KURUNJANG_VIC_3bd_House_years_raw.json\n",
      "Data exists. Skipped: rawDumps_Oct2023/3337_MELTON_VIC_3bd_House_years_raw.json\n"
     ]
    },
    {
     "name": "stderr",
     "output_type": "stream",
     "text": [
      "curl: (3) URL using bad/illegal format or missing URL\n",
      "curl: (3) URL using bad/illegal format or missing URL\n"
     ]
    },
    {
     "name": "stdout",
     "output_type": "stream",
     "text": [
      "Data exists. Skipped: rawDumps_Oct2023/3338_BROOKFIELD_VIC_3bd_House_years_raw.json\n",
      "Data exists. Skipped: rawDumps_Oct2023/3338_EXFORD_VIC_3bd_House_years_raw.json\n",
      "Data exists. Skipped: rawDumps_Oct2023/3338_EYNESBURY_VIC_3bd_House_years_raw.json\n"
     ]
    },
    {
     "name": "stderr",
     "output_type": "stream",
     "text": [
      "curl: (3) URL using bad/illegal format or missing URL\n",
      "curl: (3) URL using bad/illegal format or missing URL\n",
      "curl: (3) URL using bad/illegal format or missing URL\n"
     ]
    },
    {
     "name": "stdout",
     "output_type": "stream",
     "text": [
      "Data exists. Skipped: rawDumps_Oct2023/3340_COIMADAI_VIC_3bd_House_years_raw.json\n",
      "Data exists. Skipped: rawDumps_Oct2023/3340_DARLEY_VIC_3bd_House_years_raw.json\n"
     ]
    },
    {
     "name": "stderr",
     "output_type": "stream",
     "text": [
      "curl: (3) URL using bad/illegal format or missing URL\n",
      "curl: (3) URL using bad/illegal format or missing URL\n"
     ]
    },
    {
     "name": "stdout",
     "output_type": "stream",
     "text": [
      "Data exists. Skipped: rawDumps_Oct2023/3340_MADDINGLEY_VIC_3bd_House_years_raw.json\n",
      "Data exists. Skipped: rawDumps_Oct2023/3340_MERRIMU_VIC_3bd_House_years_raw.json\n",
      "Data exists. Skipped: rawDumps_Oct2023/3340_PARWAN_VIC_3bd_House_years_raw.json\n",
      "Data exists. Skipped: rawDumps_Oct2023/3353_BALLARAT_VIC_3bd_House_years_raw.json\n",
      "Data exists. Skipped: rawDumps_Oct2023/3409_DOUGLAS_VIC_3bd_House_years_raw.json\n",
      "Data exists. Skipped: rawDumps_Oct2023/3409_JILPANGER_VIC_3bd_House_years_raw.json\n"
     ]
    },
    {
     "name": "stderr",
     "output_type": "stream",
     "text": [
      "curl: (3) URL using bad/illegal format or missing URL\n"
     ]
    },
    {
     "name": "stdout",
     "output_type": "stream",
     "text": [
      "Data exists. Skipped: rawDumps_Oct2023/3428_BULLA_VIC_3bd_House_years_raw.json\n",
      "Data exists. Skipped: rawDumps_Oct2023/3429_SUNBURY_VIC_3bd_House_years_raw.json\n",
      "Data exists. Skipped: rawDumps_Oct2023/3429_WILDWOOD_VIC_3bd_House_years_raw.json\n",
      "Data exists. Skipped: rawDumps_Oct2023/3430_CLARKEFIELD_VIC_3bd_House_years_raw.json\n"
     ]
    },
    {
     "name": "stderr",
     "output_type": "stream",
     "text": [
      "curl: (3) URL using bad/illegal format or missing URL\n"
     ]
    },
    {
     "name": "stdout",
     "output_type": "stream",
     "text": [
      "Data exists. Skipped: rawDumps_Oct2023/3432_BOLINDA_VIC_3bd_House_years_raw.json\n",
      "Data exists. Skipped: rawDumps_Oct2023/3434_CHEROKEE_VIC_3bd_House_years_raw.json\n",
      "Data exists. Skipped: rawDumps_Oct2023/3434_KERRIE_VIC_3bd_House_years_raw.json\n",
      "Data exists. Skipped: rawDumps_Oct2023/3434_ROMSEY_VIC_3bd_House_years_raw.json\n",
      "Data exists. Skipped: rawDumps_Oct2023/3434_SPRINGFIELD_VIC_3bd_House_years_raw.json\n",
      "Data exists. Skipped: rawDumps_Oct2023/3435_LANCEFIELD_VIC_3bd_House_years_raw.json\n",
      "Data exists. Skipped: rawDumps_Oct2023/3437_BULLENGAROOK_VIC_3bd_House_years_raw.json\n",
      "Data exists. Skipped: rawDumps_Oct2023/3437_GISBORNE_VIC_3bd_House_years_raw.json\n"
     ]
    },
    {
     "name": "stderr",
     "output_type": "stream",
     "text": [
      "curl: (3) URL using bad/illegal format or missing URL\n",
      "curl: (3) URL using bad/illegal format or missing URL\n"
     ]
    },
    {
     "name": "stdout",
     "output_type": "stream",
     "text": [
      "Data exists. Skipped: rawDumps_Oct2023/3440_MACEDON_VIC_3bd_House_years_raw.json\n",
      "Data exists. Skipped: rawDumps_Oct2023/3442_ASHBOURNE_VIC_3bd_House_years_raw.json\n"
     ]
    },
    {
     "name": "stderr",
     "output_type": "stream",
     "text": [
      "curl: (3) URL using bad/illegal format or missing URL\n"
     ]
    },
    {
     "name": "stdout",
     "output_type": "stream",
     "text": [
      "Data exists. Skipped: rawDumps_Oct2023/3442_CADELLO_VIC_3bd_House_years_raw.json\n",
      "Data exists. Skipped: rawDumps_Oct2023/3442_CARLSRUHE_VIC_3bd_House_years_raw.json\n"
     ]
    },
    {
     "name": "stderr",
     "output_type": "stream",
     "text": [
      "curl: (3) URL using bad/illegal format or missing URL\n"
     ]
    },
    {
     "name": "stdout",
     "output_type": "stream",
     "text": [
      "Data exists. Skipped: rawDumps_Oct2023/3442_HESKET_VIC_3bd_House_years_raw.json\n",
      "Data exists. Skipped: rawDumps_Oct2023/3442_NEWHAM_VIC_3bd_House_years_raw.json\n",
      "Data exists. Skipped: rawDumps_Oct2023/3442_ROCHFORD_VIC_3bd_House_years_raw.json\n",
      "Data exists. Skipped: rawDumps_Oct2023/3442_WOODEND_VIC_3bd_House_years_raw.json\n"
     ]
    },
    {
     "name": "stderr",
     "output_type": "stream",
     "text": [
      "curl: (3) URL using bad/illegal format or missing URL\n",
      "curl: (3) URL using bad/illegal format or missing URL\n"
     ]
    },
    {
     "name": "stdout",
     "output_type": "stream",
     "text": [
      "Data exists. Skipped: rawDumps_Oct2023/3502_MILDURA_VIC_3bd_House_years_raw.json\n",
      "Data exists. Skipped: rawDumps_Oct2023/3552_BENDIGO_VIC_3bd_House_years_raw.json\n",
      "Data exists. Skipped: rawDumps_Oct2023/3570_SUMMERFIELD_VIC_3bd_House_years_raw.json\n",
      "Data exists. Skipped: rawDumps_Oct2023/3619_KYABRAM_VIC_3bd_House_years_raw.json\n",
      "Data exists. Skipped: rawDumps_Oct2023/3658_CLONBINANE_VIC_3bd_House_years_raw.json\n",
      "Data exists. Skipped: rawDumps_Oct2023/3658_FLOWERDALE_VIC_3bd_House_years_raw.json\n",
      "Data exists. Skipped: rawDumps_Oct2023/3658_HAZELDENE_VIC_3bd_House_years_raw.json\n"
     ]
    },
    {
     "name": "stderr",
     "output_type": "stream",
     "text": [
      "curl: (3) URL using bad/illegal format or missing URL\n"
     ]
    },
    {
     "name": "stdout",
     "output_type": "stream",
     "text": [
      "Data exists. Skipped: rawDumps_Oct2023/3689_WODONGA_VIC_3bd_House_years_raw.json\n",
      "-- Done --\n"
     ]
    },
    {
     "name": "stderr",
     "output_type": "stream",
     "text": [
      "curl: (3) URL using bad/illegal format or missing URL\n"
     ]
    }
   ],
   "source": [
    "## final step. Download data. Be mindful of number of requests allowed by API as well as frequncy of requests sent\n",
    "## request will be skipped if data already exists in the export dir.\n",
    "\n",
    "listErrors = [] # catch problematic postcodes\n",
    "# completed: ['House', '2'], ['Unit', '2'], ['Unit','1'], ['Unit','3'], ['House', '1'], ['House', '3'], ['House', '4']\n",
    "if(not os.path.exists(exportDir)):\n",
    "    os.makedirs(exportDir)\n",
    "    \n",
    "for my_postcode, my_suburb, my_state in zip(postcodes.postcode, postcodes.suburb, postcodes.state):\n",
    "    for my_property in Properties:\n",
    "        for my_bedrooms in Bedrooms:\n",
    "            try:\n",
    "                getSinglePropertyStats_raw(my_property,my_bedrooms, my_postcode, my_suburb,\n",
    "                           exportDir, \n",
    "                           my_state = list(postcodes.state.unique())[0], \n",
    "                           my_periodSize = my_periodSize)\n",
    "                time.sleep(0.1)\n",
    "            except:\n",
    "                temp_d = {'postcode': my_postcode, \n",
    "                                      'suburb' : my_suburb,\n",
    "                                      'state': my_state,\n",
    "                                      'propertyCategory' : my_property,\n",
    "                                     'bedrooms' : my_bedrooms,\n",
    "                                     'error_code': 500}\n",
    "                listErrors.append(temp_d)\n",
    "#                 print(temp_d)\n",
    "print(\"-- Done --\")              "
   ]
  },
  {
   "cell_type": "code",
   "execution_count": 10,
   "id": "697a077c",
   "metadata": {},
   "outputs": [
    {
     "data": {
      "text/html": [
       "<div>\n",
       "<style scoped>\n",
       "    .dataframe tbody tr th:only-of-type {\n",
       "        vertical-align: middle;\n",
       "    }\n",
       "\n",
       "    .dataframe tbody tr th {\n",
       "        vertical-align: top;\n",
       "    }\n",
       "\n",
       "    .dataframe thead th {\n",
       "        text-align: right;\n",
       "    }\n",
       "</style>\n",
       "<table border=\"1\" class=\"dataframe\">\n",
       "  <thead>\n",
       "    <tr style=\"text-align: right;\">\n",
       "      <th></th>\n",
       "      <th>postcode</th>\n",
       "      <th>suburb</th>\n",
       "      <th>state</th>\n",
       "      <th>propertyCategory</th>\n",
       "      <th>bedrooms</th>\n",
       "      <th>error_code</th>\n",
       "    </tr>\n",
       "  </thead>\n",
       "  <tbody>\n",
       "    <tr>\n",
       "      <th>0</th>\n",
       "      <td>3002</td>\n",
       "      <td>EAST MELBOURNE</td>\n",
       "      <td>VIC</td>\n",
       "      <td>House</td>\n",
       "      <td>3</td>\n",
       "      <td>500</td>\n",
       "    </tr>\n",
       "    <tr>\n",
       "      <th>1</th>\n",
       "      <td>3003</td>\n",
       "      <td>WEST MELBOURNE</td>\n",
       "      <td>VIC</td>\n",
       "      <td>House</td>\n",
       "      <td>3</td>\n",
       "      <td>500</td>\n",
       "    </tr>\n",
       "    <tr>\n",
       "      <th>2</th>\n",
       "      <td>3005</td>\n",
       "      <td>WORLD TRADE CENTRE</td>\n",
       "      <td>VIC</td>\n",
       "      <td>House</td>\n",
       "      <td>3</td>\n",
       "      <td>500</td>\n",
       "    </tr>\n",
       "    <tr>\n",
       "      <th>3</th>\n",
       "      <td>3010</td>\n",
       "      <td>UNIVERSITY OF MELBOURNE</td>\n",
       "      <td>VIC</td>\n",
       "      <td>House</td>\n",
       "      <td>3</td>\n",
       "      <td>500</td>\n",
       "    </tr>\n",
       "    <tr>\n",
       "      <th>4</th>\n",
       "      <td>3011</td>\n",
       "      <td>SEDDON WEST</td>\n",
       "      <td>VIC</td>\n",
       "      <td>House</td>\n",
       "      <td>3</td>\n",
       "      <td>500</td>\n",
       "    </tr>\n",
       "    <tr>\n",
       "      <th>...</th>\n",
       "      <td>...</td>\n",
       "      <td>...</td>\n",
       "      <td>...</td>\n",
       "      <td>...</td>\n",
       "      <td>...</td>\n",
       "      <td>...</td>\n",
       "    </tr>\n",
       "    <tr>\n",
       "      <th>256</th>\n",
       "      <td>3442</td>\n",
       "      <td>HANGING ROCK</td>\n",
       "      <td>VIC</td>\n",
       "      <td>House</td>\n",
       "      <td>3</td>\n",
       "      <td>500</td>\n",
       "    </tr>\n",
       "    <tr>\n",
       "      <th>257</th>\n",
       "      <td>3442</td>\n",
       "      <td>WOODEND NORTH</td>\n",
       "      <td>VIC</td>\n",
       "      <td>House</td>\n",
       "      <td>3</td>\n",
       "      <td>500</td>\n",
       "    </tr>\n",
       "    <tr>\n",
       "      <th>258</th>\n",
       "      <td>3444</td>\n",
       "      <td>KYNETON SOUTH</td>\n",
       "      <td>VIC</td>\n",
       "      <td>House</td>\n",
       "      <td>3</td>\n",
       "      <td>500</td>\n",
       "    </tr>\n",
       "    <tr>\n",
       "      <th>259</th>\n",
       "      <td>3658</td>\n",
       "      <td>WATERFORD PARK</td>\n",
       "      <td>VIC</td>\n",
       "      <td>House</td>\n",
       "      <td>3</td>\n",
       "      <td>500</td>\n",
       "    </tr>\n",
       "    <tr>\n",
       "      <th>260</th>\n",
       "      <td>3695</td>\n",
       "      <td>RED BLUFF</td>\n",
       "      <td>VIC</td>\n",
       "      <td>House</td>\n",
       "      <td>3</td>\n",
       "      <td>500</td>\n",
       "    </tr>\n",
       "  </tbody>\n",
       "</table>\n",
       "<p>261 rows × 6 columns</p>\n",
       "</div>"
      ],
      "text/plain": [
       "     postcode                   suburb state propertyCategory bedrooms  \\\n",
       "0        3002           EAST MELBOURNE   VIC            House        3   \n",
       "1        3003           WEST MELBOURNE   VIC            House        3   \n",
       "2        3005       WORLD TRADE CENTRE   VIC            House        3   \n",
       "3        3010  UNIVERSITY OF MELBOURNE   VIC            House        3   \n",
       "4        3011              SEDDON WEST   VIC            House        3   \n",
       "..        ...                      ...   ...              ...      ...   \n",
       "256      3442             HANGING ROCK   VIC            House        3   \n",
       "257      3442            WOODEND NORTH   VIC            House        3   \n",
       "258      3444            KYNETON SOUTH   VIC            House        3   \n",
       "259      3658           WATERFORD PARK   VIC            House        3   \n",
       "260      3695                RED BLUFF   VIC            House        3   \n",
       "\n",
       "     error_code  \n",
       "0           500  \n",
       "1           500  \n",
       "2           500  \n",
       "3           500  \n",
       "4           500  \n",
       "..          ...  \n",
       "256         500  \n",
       "257         500  \n",
       "258         500  \n",
       "259         500  \n",
       "260         500  \n",
       "\n",
       "[261 rows x 6 columns]"
      ]
     },
     "execution_count": 10,
     "metadata": {},
     "output_type": "execute_result"
    }
   ],
   "source": [
    "## Inspect errors\n",
    "pd.DataFrame(listErrors)"
   ]
  }
 ],
 "metadata": {
  "kernelspec": {
   "display_name": "Python 3 (ipykernel)",
   "language": "python",
   "name": "python3"
  },
  "language_info": {
   "codemirror_mode": {
    "name": "ipython",
    "version": 3
   },
   "file_extension": ".py",
   "mimetype": "text/x-python",
   "name": "python",
   "nbconvert_exporter": "python",
   "pygments_lexer": "ipython3",
   "version": "3.9.1"
  }
 },
 "nbformat": 4,
 "nbformat_minor": 5
}
